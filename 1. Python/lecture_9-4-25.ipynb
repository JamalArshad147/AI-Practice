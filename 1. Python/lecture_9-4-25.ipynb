{
 "cells": [
  {
   "cell_type": "markdown",
   "id": "84e3e832",
   "metadata": {},
   "source": [
    "# Data Structures\n",
    "List\n",
    "\n",
    "- shallow copy and deep copy in list\n",
    "- list into string using \" \".join()\n",
    "- string into list using lst.split()\n",
    "- study remaining methods of the list"
   ]
  },
  {
   "cell_type": "code",
   "execution_count": 3,
   "id": "7d57edfd",
   "metadata": {},
   "outputs": [],
   "source": [
    "foods = [\"food1\", \"food2\", \"food3\", \"food4\"]"
   ]
  },
  {
   "cell_type": "code",
   "execution_count": null,
   "id": "0493ac86",
   "metadata": {},
   "outputs": [],
   "source": [
    "first, *middle_values, last = foods # unpacking"
   ]
  },
  {
   "cell_type": "code",
   "execution_count": 12,
   "id": "a47b60e0",
   "metadata": {},
   "outputs": [],
   "source": [
    "lst1 = [22, 44, 55, 66]\n",
    "lst2 = lst1"
   ]
  },
  {
   "cell_type": "code",
   "execution_count": 13,
   "id": "7e656f82",
   "metadata": {},
   "outputs": [
    {
     "data": {
      "text/plain": [
       "[22, 44, 55, 66]"
      ]
     },
     "execution_count": 13,
     "metadata": {},
     "output_type": "execute_result"
    }
   ],
   "source": [
    "lst2"
   ]
  },
  {
   "cell_type": "code",
   "execution_count": null,
   "id": "ce7c06df",
   "metadata": {},
   "outputs": [],
   "source": [
    "lst1 = [1, [2, 3], 4]\n",
    "lst2 = lst1[:]\n"
   ]
  },
  {
   "cell_type": "code",
   "execution_count": 51,
   "id": "96eaa99b",
   "metadata": {},
   "outputs": [
    {
     "data": {
      "text/plain": [
       "[1, 2, 'Changed']"
      ]
     },
     "execution_count": 51,
     "metadata": {},
     "output_type": "execute_result"
    }
   ],
   "source": [
    "lst1[2] = \"Changed\"\n",
    "lst1"
   ]
  },
  {
   "cell_type": "code",
   "execution_count": 53,
   "id": "ef01c787",
   "metadata": {},
   "outputs": [
    {
     "data": {
      "text/plain": [
       "[1, 2, 3]"
      ]
     },
     "execution_count": 53,
     "metadata": {},
     "output_type": "execute_result"
    }
   ],
   "source": [
    "lst2"
   ]
  },
  {
   "cell_type": "code",
   "execution_count": 101,
   "id": "2bc536c3",
   "metadata": {},
   "outputs": [
    {
     "data": {
      "text/plain": [
       "['Hello']"
      ]
     },
     "execution_count": 101,
     "metadata": {},
     "output_type": "execute_result"
    }
   ],
   "source": [
    "str1 = [\"Hello\"]\n",
    "str1"
   ]
  },
  {
   "cell_type": "code",
   "execution_count": 102,
   "id": "2c7c6868",
   "metadata": {},
   "outputs": [
    {
     "data": {
      "text/plain": [
       "'World!'"
      ]
     },
     "execution_count": 102,
     "metadata": {},
     "output_type": "execute_result"
    }
   ],
   "source": [
    "str2 = \"World!\"\n",
    "str2"
   ]
  },
  {
   "cell_type": "code",
   "execution_count": 103,
   "id": "7d6a6499",
   "metadata": {},
   "outputs": [
    {
     "data": {
      "text/plain": [
       "['Hello', 'w', 'o', 'r', 'l', 'd', '!']"
      ]
     },
     "execution_count": 103,
     "metadata": {},
     "output_type": "execute_result"
    }
   ],
   "source": [
    "# str1 = [\"Hello\", \"World!\"]\n",
    "str1.extend(\"world!\")\n",
    "str1\n"
   ]
  }
 ],
 "metadata": {
  "kernelspec": {
   "display_name": "base",
   "language": "python",
   "name": "python3"
  },
  "language_info": {
   "codemirror_mode": {
    "name": "ipython",
    "version": 3
   },
   "file_extension": ".py",
   "mimetype": "text/x-python",
   "name": "python",
   "nbconvert_exporter": "python",
   "pygments_lexer": "ipython3",
   "version": "3.13.5"
  }
 },
 "nbformat": 4,
 "nbformat_minor": 5
}
