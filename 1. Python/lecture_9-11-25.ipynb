{
 "cells": [
  {
   "cell_type": "markdown",
   "id": "edf4c02b",
   "metadata": {},
   "source": [
    "# Functions\n",
    "\n",
    "\n",
    "In Python, values are passed to functions by assignment, which is a unique mechanism that can be confusing because it behaves like pass by value for immutable objects and pass by reference for mutable objects. Python doesn't have a true pass-by-reference or pass-by-value system like some other languages.\n",
    "\n",
    "<br>\n",
    "\n",
    "How it works\n",
    "\n",
    "When you call a function and pass an argument, Python creates a new local variable within the function's scope. This new variable is a reference to the object that was passed. The key distinction is what happens next, and it depends on whether the object is mutable or immutable.\n",
    "\n",
    "Immutable Objects (e.g., numbers, strings, tuples)\n",
    "\n",
    "When you pass an immutable object, the function receives a copy of the reference. Since you can't change the object's value in place, any operation that seems to \"change\" it actually creates a new object with the new value. The local variable inside the function then points to this new object, while the original variable outside the function remains unchanged and points to the original object.\n",
    "\n",
    "\n"
   ]
  },
  {
   "cell_type": "code",
   "execution_count": null,
   "id": "a9253630",
   "metadata": {},
   "outputs": [],
   "source": [
    "def add_one(x):\n",
    "    print(f\"Inside function: x is {x} and its id is {id(x)}\")\n",
    "    x = x + 1  # A new integer object is created\n",
    "    print(f\"Inside function after change: x is {x} and its id is {id(x)}\")\n",
    "\n",
    "\n",
    "my_number = 5\n",
    "print(f\"Before function call: my_number is {my_number} and its id is {id(my_number)}\")\n",
    "add_one(my_number)\n",
    "print(f\"After function call: my_number is {my_number} and its id is {id(my_number)}\")"
   ]
  },
  {
   "cell_type": "markdown",
   "id": "ba9ed2a7",
   "metadata": {},
   "source": [
    "Notice how my_number didn't change outside the function. The id() of the variable changed inside the function, proving a new object was created.\n",
    "\n",
    "Mutable Objects (e.g., lists, dictionaries, sets)\n",
    "\n",
    "When you pass a mutable object, the function still receives a copy of the reference. However, since the object itself can be modified in place, any changes you make to the object using methods like append(), remove(), or direct indexing will affect the original object that the outer variable is also referencing. Both references point to the same object in memory."
   ]
  },
  {
   "cell_type": "code",
   "execution_count": null,
   "id": "892da2cc",
   "metadata": {},
   "outputs": [],
   "source": [
    "def add_item(my_list):\n",
    "    print(f\"Inside function: my_list is {my_list} and its id is {id(my_list)}\")\n",
    "    my_list.append(4)  # Modifies the original list object\n",
    "    print(\n",
    "        f\"Inside function after change: my_list is {my_list} and its id is {id(my_list)}\"\n",
    "    )\n",
    "\n",
    "\n",
    "my_list = [1, 2, 3]\n",
    "print(f\"Before function call: my_list is {my_list} and its id is {id(my_list)}\")\n",
    "add_item(my_list)\n",
    "print(f\"After function call: my_list is {my_list} and its id is {id(my_list)}\")"
   ]
  },
  {
   "cell_type": "markdown",
   "id": "3a67503d",
   "metadata": {},
   "source": [
    "In this case, the id() of the list remained the same because the same object was modified in place, and the change is visible outside the function.\n",
    "\n",
    "In summary, Python's behavior is best described as pass by assignment, where the argument is an object reference passed by value. The consequences of this depend on the mutability of the object itself. 🐍"
   ]
  },
  {
   "cell_type": "code",
   "execution_count": 2,
   "id": "e989a3db",
   "metadata": {},
   "outputs": [],
   "source": [
    "def greet(name):\n",
    "    \"\"\"This is a greeting function\"\"\" # this is for documentation when we hover on the function in vscode\n",
    "    print(f\"Welcome {name}\")\n",
    "\n",
    "def power(x, y = 1):\n",
    "    return x**y, x*y # we can return more value than a single one, it will return a tuple\n",
    "\n",
    "\n",
    "\n"
   ]
  },
  {
   "cell_type": "code",
   "execution_count": null,
   "id": "ba5792c7",
   "metadata": {},
   "outputs": [
    {
     "name": "stdout",
     "output_type": "stream",
     "text": [
      "5\n"
     ]
    }
   ],
   "source": [
    "power(5)"
   ]
  },
  {
   "cell_type": "code",
   "execution_count": null,
   "id": "3c426b02",
   "metadata": {},
   "outputs": [],
   "source": [
    "# problem #1\n",
    "\n",
    "user_input = input(\"Enter your tweet\")\n",
    "\n",
    "if (len(user_input) <= 140):\n",
    "    print(f'That {len(user_input)} char tweet will work!')\n",
    "else:\n",
    "    print(f'Your {len(user_input)} char tweet is {140 - len(user_input)} chars too long')\n"
   ]
  },
  {
   "cell_type": "code",
   "execution_count": null,
   "id": "876a2208",
   "metadata": {},
   "outputs": [],
   "source": [
    "# problem #2\n",
    "\n",
    "user_height = int(input(\"Enter your height in inches\"))\n",
    "user_weight = int(input(\"Enter your weight in pounds\"))\n",
    "\n",
    "bmi = (user_weight * 703) / (user_height **2)\n",
    "print(f\"Your BMI of {bmi} makes you \", end=\"\")\n",
    "if bmi < 16.0:\n",
    "    print('Severely Underweight')\n",
    "elif bmi < 18.4:\n",
    "    print(\"Underweight\")\n",
    "elif bmi < 24.9:\n",
    "    print('Normal')\n",
    "elif bmi < 29.9:\n",
    "    print('Overweight')\n",
    "elif bmi < 34.9:\n",
    "    print('Moderately Obese')\n",
    "elif bmi < 39.9:\n",
    "    print('Severely Obese')\n",
    "else:\n",
    "    print('Morbidly Obese')"
   ]
  },
  {
   "cell_type": "code",
   "execution_count": null,
   "id": "d1fb6391",
   "metadata": {},
   "outputs": [],
   "source": [
    "# problem #3\n",
    "\n",
    "age = int(input('Enter your age'))\n",
    "print(f'You have {(90 - age) * 52} weeks left.')"
   ]
  },
  {
   "cell_type": "code",
   "execution_count": 14,
   "id": "997abc3d",
   "metadata": {},
   "outputs": [
    {
     "name": "stdout",
     "output_type": "stream",
     "text": [
      "Your BMI is 2.67538644470868\n"
     ]
    }
   ],
   "source": [
    "# problem #4\n",
    "\n",
    "user_height = float(input(\"Enter your height in meter\"))\n",
    "user_weight = int(input(\"Enter your weight in kg\"))\n",
    "\n",
    "bmi = (user_weight) / (user_height**2)\n",
    "\n",
    "print(f'Your BMI is {bmi}')"
   ]
  },
  {
   "cell_type": "code",
   "execution_count": 17,
   "id": "c9d22395",
   "metadata": {},
   "outputs": [
    {
     "name": "stdout",
     "output_type": "stream",
     "text": [
      "Thank you for choosing Python Pizza Delivers! \n",
      "Your final bill is: $0\n"
     ]
    }
   ],
   "source": [
    "# problem #5\n",
    "\n",
    "small_pizza = 15\n",
    "medium_pizza = 20\n",
    "large_pizza = 25\n",
    "\n",
    "print(f'Small Pizza: ${small_pizza}\\nMedium Pizza: ${medium_pizza}\\nLarge Pizza: ${large_pizza}')\n",
    "\n",
    "total = 0\n",
    "\n",
    "size = input('Enter pizza size: ').lower()\n",
    "\n",
    "if(size == 's'):\n",
    "    total += small_pizza\n",
    "elif(size == 'm'):\n",
    "    total += medium_pizza\n",
    "elif(size == 'l'):\n",
    "    total += large_pizza\n",
    "\n",
    "pepperoni = input(\"Add pepperoni for small (+$2), medium & large (+$3) (Y or N): \").lower()\n",
    "\n",
    "if(size == 's'):\n",
    "    total += 2\n",
    "elif(size == 'm' or size == 'l'):\n",
    "    total += 3\n",
    "\n",
    "extra_cheese = input(\"Add extra cheese for any size pizza (Y or N) +$1: \").lower()\n",
    "\n",
    "if (extra_cheese == 'y'):\n",
    "    total += 1\n",
    "\n",
    "\n",
    "\n",
    "print(f'Thank you for choosing Python Pizza Delivers! \\nYour final bill is: ${total}')\n"
   ]
  },
  {
   "cell_type": "code",
   "execution_count": null,
   "id": "46eb8d1c",
   "metadata": {},
   "outputs": [],
   "source": [
    "# problem #6\n",
    "\n",
    "nums = [1,2,3,4,5,6,7,8,9]\n",
    "\n",
    "even = 0\n",
    "odd = 0\n",
    "\n",
    "for n in nums:\n",
    "    if(n%2 == 0):\n",
    "        even += 1\n",
    "    else: \n",
    "        odd += 1\n",
    "\n",
    "print(f\"Number of even numbers: {even}\")\n",
    "print(f\"Number of odd numbers: {odd}\")"
   ]
  },
  {
   "cell_type": "code",
   "execution_count": 14,
   "id": "6b5e4b67",
   "metadata": {},
   "outputs": [
    {
     "name": "stdout",
     "output_type": "stream",
     "text": [
      "1 1 2 "
     ]
    }
   ],
   "source": [
    "# problem #7\n",
    "\n",
    "user_input = int(input(\"Enter your number\"))\n",
    "ans = [1, 1]\n",
    "for i in range(2, user_input):\n",
    "    ans.append(ans[i-1] + ans[i-2])\n",
    "\n",
    "for x in ans:\n",
    "    print(x, end=' ')"
   ]
  },
  {
   "cell_type": "code",
   "execution_count": null,
   "id": "f7ad8d17",
   "metadata": {},
   "outputs": [
    {
     "name": "stdout",
     "output_type": "stream",
     "text": [
      "It's not a valid password!\n"
     ]
    }
   ],
   "source": [
    "# problem #8\n",
    "\n",
    "user_input = input('Enter your password')\n",
    "\n",
    "alpha = False\n",
    "number = False\n",
    "special = False\n",
    "length = False\n",
    "\n",
    "if(len(user_input) >= 6 and len(user_input) <= 16):\n",
    "    length = True\n",
    "\n",
    "special_chars = ['$', '@', '_', '-', '&', '.', '%', '^', '#']\n",
    "\n",
    "for char in user_input:\n",
    "    if(char.isalpha()):\n",
    "        alpha = True\n",
    "    if(char.isnumeric()):\n",
    "        number = True\n",
    "    if(char in special_chars):\n",
    "        special = True\n",
    "\n",
    "if(alpha and number and special and length):\n",
    "    print(\"Your Password is Valid!\")\n",
    "else: \n",
    "    print(\"It's not a valid password!\")\n"
   ]
  },
  {
   "cell_type": "code",
   "execution_count": null,
   "id": "8f2bdea6",
   "metadata": {},
   "outputs": [
    {
     "name": "stdout",
     "output_type": "stream",
     "text": [
      "[5] [5, 10] [5]\n"
     ]
    }
   ],
   "source": [
    "def my_func(my_list):\n",
    "    user_height\n",
    "    return my_list\n",
    "\n"
   ]
  }
 ],
 "metadata": {
  "kernelspec": {
   "display_name": "base",
   "language": "python",
   "name": "python3"
  },
  "language_info": {
   "codemirror_mode": {
    "name": "ipython",
    "version": 3
   },
   "file_extension": ".py",
   "mimetype": "text/x-python",
   "name": "python",
   "nbconvert_exporter": "python",
   "pygments_lexer": "ipython3",
   "version": "3.13.5"
  }
 },
 "nbformat": 4,
 "nbformat_minor": 5
}
