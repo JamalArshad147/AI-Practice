{
 "cells": [
  {
   "cell_type": "markdown",
   "id": "a9dbdd15",
   "metadata": {},
   "source": [
    "# dictionary\n",
    "\n",
    "-   Key-value pairs\n",
    "-   dict union\n",
    "-\n"
   ]
  },
  {
   "cell_type": "code",
   "execution_count": null,
   "id": "4288dc8a",
   "metadata": {},
   "outputs": [
    {
     "name": "stdout",
     "output_type": "stream",
     "text": [
      "True\n"
     ]
    }
   ],
   "source": [
    "dit = {5: 0, 6: 1}\n",
    "\n",
    "print(5 in dit)\n",
    "\n",
    "dit"
   ]
  }
 ],
 "metadata": {
  "kernelspec": {
   "display_name": "base",
   "language": "python",
   "name": "python3"
  },
  "language_info": {
   "codemirror_mode": {
    "name": "ipython",
    "version": 3
   },
   "file_extension": ".py",
   "mimetype": "text/x-python",
   "name": "python",
   "nbconvert_exporter": "python",
   "pygments_lexer": "ipython3",
   "version": "3.13.5"
  }
 },
 "nbformat": 4,
 "nbformat_minor": 5
}
