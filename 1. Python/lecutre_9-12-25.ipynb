{
 "cells": [
  {
   "cell_type": "markdown",
   "id": "ebe23d8a",
   "metadata": {},
   "source": [
    "# Modules\n",
    " \n",
    "- import random as rand (For importing whole module function)\n",
    "- from random import randint as rand (For importing only one function)\n",
    "- import random -> random.randint\n",
    "\n",
    "# Errors\n",
    "\n",
    "- SyntaxError, NameError, IndexError, TypeError, ValueError, KeyError, ZeroDivisionError\n",
    "\n",
    "What is an exception? These are events that disrupt the normal flow of a program. they occur when an error is encountered during pogram  execution. \n"
   ]
  },
  {
   "cell_type": "code",
   "execution_count": null,
   "id": "0d35db92",
   "metadata": {},
   "outputs": [],
   "source": [
    "# a = b # NameError\n",
    "\n",
    "try:\n",
    "    a=b\n",
    "except:\n",
    "    print(\"name b is not defined\")\n"
   ]
  },
  {
   "cell_type": "code",
   "execution_count": null,
   "id": "fa9e0037",
   "metadata": {},
   "outputs": [],
   "source": [
    "try:\n",
    "    a = b\n",
    "except NameError as ex:\n",
    "    print(ex)"
   ]
  },
  {
   "cell_type": "code",
   "execution_count": null,
   "id": "6ed9ee9f",
   "metadata": {},
   "outputs": [],
   "source": [
    "try:\n",
    "    1/0\n",
    "except ZeroDivisionError as ex:\n",
    "    print(ex)"
   ]
  },
  {
   "cell_type": "code",
   "execution_count": null,
   "id": "1ebaf071",
   "metadata": {},
   "outputs": [],
   "source": [
    "try: \n",
    "    result = 1/2\n",
    "    i=K\n",
    "except ZeroDivisionError as ex:\n",
    "    print(ex)\n",
    "except Exception as exp:\n",
    "    print(exp)\n",
    "else: \n",
    "    print(\"This will execute if there are no errors\")\n",
    "finally: \n",
    "    print(\"This is will excecute everytime even there is any error or not\")"
   ]
  },
  {
   "cell_type": "code",
   "execution_count": null,
   "id": "f8c3c7ec",
   "metadata": {},
   "outputs": [
    {
     "name": "stdout",
     "output_type": "stream",
     "text": [
      "5\n"
     ]
    }
   ],
   "source": []
  }
 ],
 "metadata": {
  "kernelspec": {
   "display_name": "base",
   "language": "python",
   "name": "python3"
  },
  "language_info": {
   "codemirror_mode": {
    "name": "ipython",
    "version": 3
   },
   "file_extension": ".py",
   "mimetype": "text/x-python",
   "name": "python",
   "nbconvert_exporter": "python",
   "pygments_lexer": "ipython3",
   "version": "3.13.5"
  }
 },
 "nbformat": 4,
 "nbformat_minor": 5
}
