{
 "cells": [
  {
   "cell_type": "markdown",
   "id": "38800404",
   "metadata": {},
   "source": [
    "**Lambda Expressions**"
   ]
  },
  {
   "cell_type": "code",
   "execution_count": 2,
   "id": "89640276",
   "metadata": {},
   "outputs": [],
   "source": [
    "def even(x):\n",
    "    return ((x%2) == 0)"
   ]
  },
  {
   "cell_type": "code",
   "execution_count": 3,
   "id": "ff8b2bf2",
   "metadata": {},
   "outputs": [],
   "source": [
    "# syntax\n",
    "# lambda arguments: expressions\n",
    "\n",
    "even2 = lambda x: x%2==0"
   ]
  },
  {
   "cell_type": "code",
   "execution_count": 4,
   "id": "7f1f6b96",
   "metadata": {},
   "outputs": [
    {
     "name": "stdout",
     "output_type": "stream",
     "text": [
      "True\n",
      "True\n"
     ]
    }
   ],
   "source": [
    "print(even(2))\n",
    "print(even2(2))"
   ]
  },
  {
   "cell_type": "markdown",
   "id": "37caa5f2",
   "metadata": {},
   "source": [
    "**map() -> Manipulates the list**"
   ]
  },
  {
   "cell_type": "code",
   "execution_count": 2,
   "id": "836873be",
   "metadata": {},
   "outputs": [
    {
     "data": {
      "text/plain": [
       "[1, 4, 9, 16, 25, 36, 49, 64]"
      ]
     },
     "execution_count": 2,
     "metadata": {},
     "output_type": "execute_result"
    }
   ],
   "source": [
    "numbers = [1,2,3,4,5,6,7,8]\n",
    "list(map(lambda x: x**2, numbers))"
   ]
  },
  {
   "cell_type": "code",
   "execution_count": 3,
   "id": "71afe9df",
   "metadata": {},
   "outputs": [
    {
     "data": {
      "text/plain": [
       "[7, 9, 11, 13, 15]"
      ]
     },
     "execution_count": 3,
     "metadata": {},
     "output_type": "execute_result"
    }
   ],
   "source": [
    "list_1 = [1,2,3,4,5]\n",
    "list_2 = [6,7,8,9,10]\n",
    "list(map(lambda x,y: x+y, list_1, list_2))"
   ]
  },
  {
   "cell_type": "markdown",
   "id": "b815b5f9",
   "metadata": {},
   "source": [
    "**filter() -> returns elements based on a condition. Its just filtering through the list.**"
   ]
  },
  {
   "cell_type": "code",
   "execution_count": 10,
   "id": "a61f91b2",
   "metadata": {},
   "outputs": [
    {
     "data": {
      "text/plain": [
       "[4, 5, 6, 6, 7, 4, 6, 7, 8, 3]"
      ]
     },
     "execution_count": 10,
     "metadata": {},
     "output_type": "execute_result"
    }
   ],
   "source": [
    "numbers = [23,4,5,6,82,6,7,4,23,6,7,8,3,90]\n",
    "list(filter(lambda x:x<20, numbers))"
   ]
  },
  {
   "cell_type": "code",
   "execution_count": null,
   "id": "a44cc3a7",
   "metadata": {},
   "outputs": [],
   "source": []
  }
 ],
 "metadata": {
  "kernelspec": {
   "display_name": "env_ai",
   "language": "python",
   "name": "python3"
  },
  "language_info": {
   "codemirror_mode": {
    "name": "ipython",
    "version": 3
   },
   "file_extension": ".py",
   "mimetype": "text/x-python",
   "name": "python",
   "nbconvert_exporter": "python",
   "pygments_lexer": "ipython3",
   "version": "3.11.13"
  }
 },
 "nbformat": 4,
 "nbformat_minor": 5
}
