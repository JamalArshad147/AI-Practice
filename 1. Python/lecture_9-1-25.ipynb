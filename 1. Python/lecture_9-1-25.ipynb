{
 "cells": [
  {
   "cell_type": "markdown",
   "id": "c247a22a",
   "metadata": {},
   "source": [
    "# Lecture 1 - 9/1/25\n",
    "1. Your variable name should be explicit\n",
    "2. Your variable name should not start with digits\n",
    "3. No space is allowed in variable names\n",
    "4. No special character are allowed\n",
    "5. No reserved words are allowed \n",
    "6. No duplication is allowed\n",
    "7. Naming Conventions -> snake_Case(python), camelCase(JS), PascalCase(C#, .NET), kebab-case(CSS)\n",
    "\n",
    "help(\"Keywords\")\n",
    "\n",
    "+=, -=, *=, /=, //=, %=, **=\n",
    "\n",
    "Dataype: Strings\n",
    "\n",
    "- escape characters"
   ]
  },
  {
   "cell_type": "code",
   "execution_count": 1,
   "id": "0b35a1ec",
   "metadata": {},
   "outputs": [
    {
     "name": "stdout",
     "output_type": "stream",
     "text": [
      "Sum is 20\n",
      "Subtraction is 0\n",
      "Division is 1.0\n",
      "Multiplication is 100\n"
     ]
    }
   ],
   "source": [
    "# problem 1\n",
    "\n",
    "first_number = int(input(\"Enter first number\"))\n",
    "second_number = int(input(\"Enter second number\"))\n",
    "print(f\"Sum is {first_number + second_number}\")\n",
    "print(f\"Subtraction is {first_number - second_number}\")\n",
    "print(f\"Division is {first_number / second_number}\")\n",
    "print(f\"Multiplication is {first_number * second_number}\")"
   ]
  },
  {
   "cell_type": "code",
   "execution_count": null,
   "id": "8bb338ac",
   "metadata": {},
   "outputs": [],
   "source": [
    "# problem 2 calculate the avg of 10 student age in the class\n",
    "\n",
    "student_1 = int(input(\"Enter student 1 age\"))\n",
    "student_2 = int(input(\"Enter student 2 age\"))\n",
    "student_3 = int(input(\"Enter student 3 age\"))\n",
    "student_4 = int(input(\"Enter student 4 age\"))\n",
    "student_5 = int(input(\"Enter student 5 age\"))\n",
    "student_6 = int(input(\"Enter student 6 age\"))\n",
    "student_7 = int(input(\"Enter student 7 age\"))\n",
    "student_8 = int(input(\"Enter student 8 age\"))\n",
    "student_9 = int(input(\"Enter student 9 age\"))\n",
    "student_10 = int(input(\"Enter student 10 age\"))\n",
    "\n",
    "print(\n",
    "    f\"Average: {(student_1 + student_2 + student_3 + student_4 + student_5 + student_6 + student_7 + student_8 + student_9 + student_10) / 10}\"\n",
    ")"
   ]
  },
  {
   "cell_type": "code",
   "execution_count": null,
   "id": "457e0f99",
   "metadata": {},
   "outputs": [],
   "source": [
    "# problem 3 enter a 4 digit number = 7531\n",
    "\n",
    "number = int(input(\"enter a 4 digit number\"))\n",
    "\n",
    "\n",
    "print(f\"{int(number/1000)}\")\n",
    "number %= 1000\n",
    "print(f\"{int(number/100)}\")\n",
    "number %= 100\n",
    "print(f\"{int(number/10)}\")\n",
    "number %= 10\n",
    "print(number)\n",
    "# Output:\n",
    "# 7\n",
    "# 5\n",
    "# 3\n",
    "# 1\n",
    "\n",
    "print(\"Reversed\")\n",
    "\n",
    "print(number%10)\n",
    "number //= 10\n",
    "print(number%10)\n",
    "number //= 10\n",
    "print(number%10)\n",
    "number //= 10\n",
    "print(number%10)\n",
    "number //= 10\n",
    "\n",
    "# Output:\n",
    "# 1\n",
    "# 3\n",
    "# 5\n",
    "# 7"
   ]
  },
  {
   "cell_type": "code",
   "execution_count": null,
   "id": "c57354c6",
   "metadata": {},
   "outputs": [],
   "source": [
    "# problem 4\n",
    "\n",
    "radius = int(input(\"Enter radius of the circle\"))\n",
    "print(f\"Diameter is {radius*2}\")\n",
    "print(f\"Circumference is {3.14 * radius*2}\")\n",
    "print(f\"Area is {3.14 * (radius**2)}\")"
   ]
  },
  {
   "cell_type": "code",
   "execution_count": null,
   "id": "daf56ab2",
   "metadata": {},
   "outputs": [],
   "source": [
    "# problem 5 shopping cart excercise\n",
    "\n",
    "print(\"/////////////// Welcome to our shop ///////////////\")\n",
    "\n",
    "item_name = input(\"Enter item name you are  buying\")\n",
    "item_price = int(input(\"Enter the price of the item\"))\n",
    "item_quantity = int(input(\"Enter the quantity that you are purchasing\"))\n",
    "\n",
    "print(f'You purchased {item_name}, quantity is {item_quantity} and your subtotal is {item_quantity * item_price}')\n",
    "                    \n"
   ]
  },
  {
   "cell_type": "code",
   "execution_count": null,
   "id": "2dd601fb",
   "metadata": {},
   "outputs": [],
   "source": [
    "# problem 6 budget planner\n",
    "\n",
    "budget = 500\n",
    "rent = 200\n",
    "groceries = 50\n",
    "surprise_income = 50\n",
    "entertainment = 30\n",
    "\n",
    "\n",
    "print(f'Budget: {budget}')\n",
    "\n",
    "budget -= rent + groceries + entertainment\n",
    "print(f'Subtracting rent, groceries and entertainment: {budget}')\n",
    "\n",
    "budget += surprise_income\n",
    "print(f\"added suprise income {surprise_income} \")\n",
    "print(f\"Budget: {budget}\")\n",
    "\n",
    "\n",
    "savings = 10 * budget / 100\n",
    "print(f'saving: {savings}')\n",
    "print(f\"Budget: {budget}\")\n",
    "\n",
    "\n",
    "budget -= savings\n",
    "print(f'Final Budget: {budget}')"
   ]
  },
  {
   "cell_type": "code",
   "execution_count": null,
   "id": "fd4f19ac",
   "metadata": {},
   "outputs": [],
   "source": [
    "# problem 7 calculate the remaining weeks\n",
    "\n",
    "age = int(input(\"Enter your age\"))\n",
    "print(f'Remaining weeks: {(90-age)*52}')"
   ]
  },
  {
   "cell_type": "code",
   "execution_count": null,
   "id": "a73334fa",
   "metadata": {},
   "outputs": [],
   "source": [
    "# problem 7 Calculate your BMI\n",
    "\n",
    "weight = float(input(\"Enter your weight\"))\n",
    "height = float(input(\"Enter your height\"))\n",
    "print(f\"BMI is {weight / (height**2) }\")"
   ]
  },
  {
   "cell_type": "code",
   "execution_count": null,
   "id": "b18943e2",
   "metadata": {},
   "outputs": [],
   "source": [
    "# problem 8 tweet checker\n",
    "\n",
    "tweet = input(\"Enter you tweet\")\n",
    "msg_length = len(tweet)\n",
    "print(f\"Your {msg_length} char tweet is {msg_length - 140} chars too long!\")"
   ]
  },
  {
   "cell_type": "code",
   "execution_count": null,
   "id": "1116423d",
   "metadata": {},
   "outputs": [],
   "source": []
  }
 ],
 "metadata": {
  "kernelspec": {
   "display_name": "my_env",
   "language": "python",
   "name": "python3"
  },
  "language_info": {
   "codemirror_mode": {
    "name": "ipython",
    "version": 3
   },
   "file_extension": ".py",
   "mimetype": "text/x-python",
   "name": "python",
   "nbconvert_exporter": "python",
   "pygments_lexer": "ipython3",
   "version": "3.13.5"
  }
 },
 "nbformat": 4,
 "nbformat_minor": 5
}
