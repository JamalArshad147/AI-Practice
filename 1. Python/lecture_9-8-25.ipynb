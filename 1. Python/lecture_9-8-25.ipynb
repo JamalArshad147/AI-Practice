{
 "cells": [
  {
   "cell_type": "markdown",
   "id": "5c9c7740",
   "metadata": {},
   "source": [
    "# tuples\n",
    "\n",
    "- Same as list but immutable\n",
    "- () are used for this\n",
    "- we can do slicing tpl[1:2]\n",
    "- acces\n",
    "- unpacking "
   ]
  },
  {
   "cell_type": "code",
   "execution_count": 9,
   "id": "43fb6925",
   "metadata": {},
   "outputs": [],
   "source": [
    "tpl  = [1, 2, 3, 4, 5]"
   ]
  },
  {
   "cell_type": "code",
   "execution_count": 10,
   "id": "967a184c",
   "metadata": {},
   "outputs": [],
   "source": [
    "tpl = tuple(tpl)"
   ]
  },
  {
   "cell_type": "code",
   "execution_count": 11,
   "id": "643cb254",
   "metadata": {},
   "outputs": [
    {
     "data": {
      "text/plain": [
       "tuple"
      ]
     },
     "execution_count": 11,
     "metadata": {},
     "output_type": "execute_result"
    }
   ],
   "source": [
    "type(tpl)"
   ]
  },
  {
   "cell_type": "code",
   "execution_count": null,
   "id": "3e0d0c77",
   "metadata": {},
   "outputs": [
    {
     "data": {
      "text/plain": [
       "tuple"
      ]
     },
     "execution_count": 13,
     "metadata": {},
     "output_type": "execute_result"
    }
   ],
   "source": [
    "my_tuple = (1,) # its a single element tuple, you cant define it with (1)\n",
    "type(my_tuple)"
   ]
  },
  {
   "cell_type": "code",
   "execution_count": 14,
   "id": "ebfda4c8",
   "metadata": {},
   "outputs": [],
   "source": [
    "my_tuple = \"jamal\", # its a tuple becaus i thas a comma after it\n",
    "my_tuple = \"name\", \"account\", \"class\", \"degree\""
   ]
  },
  {
   "cell_type": "markdown",
   "id": "3e6c97fb",
   "metadata": {},
   "source": [
    "# Sets\n",
    "\n",
    "- unordered collections with no duplicate elements\n",
    "- set is immutable\n",
    "- set can my_set = set()\n",
    "- .add(), .remove() -> if that element is not in set it will give an error\n",
    "- .discard() -> if that element is no in the set it will not give an error \n",
    "- intersection '&', union '|', difference a - b"
   ]
  },
  {
   "cell_type": "code",
   "execution_count": 15,
   "id": "bba36f26",
   "metadata": {},
   "outputs": [
    {
     "data": {
      "text/plain": [
       "{1, 2, 3, 4, 5, 6, 7, 8, 23, 34, 52, 99}"
      ]
     },
     "execution_count": 15,
     "metadata": {},
     "output_type": "execute_result"
    }
   ],
   "source": [
    "mix_items = [1,2,3,4,5,6,7,8,99,23,34,4,52,3,4]\n",
    "\n",
    "set(mix_items)"
   ]
  },
  {
   "cell_type": "code",
   "execution_count": null,
   "id": "0846aa87",
   "metadata": {},
   "outputs": [],
   "source": []
  }
 ],
 "metadata": {
  "kernelspec": {
   "display_name": "base",
   "language": "python",
   "name": "python3"
  },
  "language_info": {
   "codemirror_mode": {
    "name": "ipython",
    "version": 3
   },
   "file_extension": ".py",
   "mimetype": "text/x-python",
   "name": "python",
   "nbconvert_exporter": "python",
   "pygments_lexer": "ipython3",
   "version": "3.13.5"
  }
 },
 "nbformat": 4,
 "nbformat_minor": 5
}
