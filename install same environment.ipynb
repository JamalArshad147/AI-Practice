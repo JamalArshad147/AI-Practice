{
 "cells": [
  {
   "cell_type": "markdown",
   "id": "2903e045",
   "metadata": {},
   "source": [
    "### Please install miniconda before creating your local env with these dependencies\n"
   ]
  },
  {
   "cell_type": "markdown",
   "id": "fa4fc4e2",
   "metadata": {},
   "source": [
    "When someone on a different machine runs the conda env create command, Conda is smart enough to only read the important parts:\n",
    "\n",
    "    name: env_ai\n",
    "\n",
    "    channels: ...\n",
    "\n",
    "    dependencies: ...\n",
    "\n",
    "It sees the prefix line, recognizes it's not for its own system, and simply ignores it. Conda will then build the new environment in the other person's default Conda envs folder.\n",
    "\n",
    "---------------------------------------------------\n",
    "\n",
    "**The Steps for the Other Person**\n",
    "\n",
    "So, the process for them is just as simple:\n",
    "\n",
    "    They get the environment.yml file from you (via email, GitHub, USB, etc.).\n",
    "\n",
    "    They open their terminal (Anaconda Prompt).\n",
    "\n",
    "    They navigate to the directory where they saved the environment.yml file.\n",
    "\n",
    "    They run the exact same command on Bash:\n",
    "\n",
    "    --> conda env create -f environment.yml\n",
    "\n",
    "Conda will then build the env_ai environment on their computer, in their local user folder, using all the packages you listed."
   ]
  },
  {
   "cell_type": "markdown",
   "id": "63a4e5c0",
   "metadata": {},
   "source": [
    "--------------------------------------------------------------------------\n",
    "\n",
    "**To create environment in the same folder you can use this command**"
   ]
  },
  {
   "cell_type": "markdown",
   "id": "f20fabf8",
   "metadata": {},
   "source": [
    "conda env export > environment.yml"
   ]
  }
 ],
 "metadata": {
  "language_info": {
   "name": "python"
  }
 },
 "nbformat": 4,
 "nbformat_minor": 5
}
