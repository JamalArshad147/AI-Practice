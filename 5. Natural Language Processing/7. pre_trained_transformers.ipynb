{
 "cells": [
  {
   "cell_type": "markdown",
   "id": "00b0f3ca",
   "metadata": {},
   "source": [
    "# Pre-trained Transformers: Sentiment Analysis"
   ]
  },
  {
   "cell_type": "code",
   "execution_count": 17,
   "id": "0d831f97",
   "metadata": {},
   "outputs": [],
   "source": [
    "from transformers import pipeline"
   ]
  },
  {
   "cell_type": "code",
   "execution_count": null,
   "id": "22cff339",
   "metadata": {},
   "outputs": [
    {
     "name": "stderr",
     "output_type": "stream",
     "text": [
      "No model was supplied, defaulted to distilbert/distilbert-base-uncased-finetuned-sst-2-english and revision 714eb0f (https://huggingface.co/distilbert/distilbert-base-uncased-finetuned-sst-2-english).\n",
      "Using a pipeline without specifying a model name and revision in production is not recommended.\n",
      "Device set to use cpu\n"
     ]
    }
   ],
   "source": [
    "sentiment_analysis = pipeline('sentiment-analysis')   "
   ]
  },
  {
   "cell_type": "code",
   "execution_count": 19,
   "id": "e1984bcb",
   "metadata": {},
   "outputs": [
    {
     "name": "stderr",
     "output_type": "stream",
     "text": [
      "Xet Storage is enabled for this repo, but the 'hf_xet' package is not installed. Falling back to regular HTTP download. For better performance, install the package with: `pip install huggingface_hub[hf_xet]` or `pip install hf_xet`\n",
      "c:\\Users\\Jamal Arshad\\miniconda3\\envs\\env_ai\\Lib\\site-packages\\huggingface_hub\\file_download.py:143: UserWarning: `huggingface_hub` cache-system uses symlinks by default to efficiently store duplicated files but your machine does not support them in C:\\Users\\Jamal Arshad\\.cache\\huggingface\\hub\\models--tabularisai--multilingual-sentiment-analysis. Caching files will still work but in a degraded version that might require more space on your disk. This warning can be disabled by setting the `HF_HUB_DISABLE_SYMLINKS_WARNING` environment variable. For more details, see https://huggingface.co/docs/huggingface_hub/how-to-cache#limitations.\n",
      "To support symlinks on Windows, you either need to activate Developer Mode or to run Python as an administrator. In order to activate developer mode, see this article: https://docs.microsoft.com/en-us/windows/apps/get-started/enable-your-device-for-development\n",
      "  warnings.warn(message)\n",
      "Device set to use cpu\n"
     ]
    }
   ],
   "source": [
    "pipe = pipeline(\"text-classification\", model=\"tabularisai/multilingual-sentiment-analysis\")"
   ]
  },
  {
   "cell_type": "code",
   "execution_count": 20,
   "id": "58c7d7e3",
   "metadata": {},
   "outputs": [],
   "source": [
    "s1 = \"i had a great time at the movie it was really funny\"\n",
    "s2 = \"i had a great time at the movie but the parking was terrible\"\n",
    "s3 = \"i had a great time at the movie but the parking wasn't great\"\n",
    "s4 = \"i went to see a movie\""
   ]
  },
  {
   "cell_type": "code",
   "execution_count": 26,
   "id": "9338d736",
   "metadata": {},
   "outputs": [
    {
     "name": "stdout",
     "output_type": "stream",
     "text": [
      "i had a great time at the movie it was really funny\n",
      "[{'label': 'POSITIVE', 'score': 0.9998176693916321}]\n",
      "[{'label': 'Positive', 'score': 0.8961459398269653}]\n"
     ]
    }
   ],
   "source": [
    "print(s1)\n",
    "print(sentiment_analysis(s1))\n",
    "print(pipe(s1))"
   ]
  },
  {
   "cell_type": "code",
   "execution_count": 27,
   "id": "881ef009",
   "metadata": {},
   "outputs": [
    {
     "name": "stdout",
     "output_type": "stream",
     "text": [
      "i had a great time at the movie but the parking was terrible\n",
      "[{'label': 'NEGATIVE', 'score': 0.9977464079856873}]\n",
      "[{'label': 'Negative', 'score': 0.8225905299186707}]\n"
     ]
    }
   ],
   "source": [
    "print(s2)\n",
    "print(sentiment_analysis(s2))\n",
    "print(pipe(s2))"
   ]
  },
  {
   "cell_type": "code",
   "execution_count": 28,
   "id": "368fac78",
   "metadata": {},
   "outputs": [
    {
     "name": "stdout",
     "output_type": "stream",
     "text": [
      "i had a great time at the movie but the parking wasn't great\n",
      "[{'label': 'NEGATIVE', 'score': 0.9984902143478394}]\n",
      "[{'label': 'Negative', 'score': 0.9085932374000549}]\n"
     ]
    }
   ],
   "source": [
    "print(s3)\n",
    "print(sentiment_analysis(s3))\n",
    "print(pipe(s3))"
   ]
  },
  {
   "cell_type": "code",
   "execution_count": 29,
   "id": "e9365ea5",
   "metadata": {},
   "outputs": [
    {
     "name": "stdout",
     "output_type": "stream",
     "text": [
      "i went to see a movie\n",
      "[{'label': 'POSITIVE', 'score': 0.9802700281143188}]\n",
      "[{'label': 'Neutral', 'score': 0.7416476607322693}]\n"
     ]
    }
   ],
   "source": [
    "print(s4)\n",
    "print(sentiment_analysis(s4))\n",
    "print(pipe(s4))"
   ]
  },
  {
   "cell_type": "code",
   "execution_count": null,
   "id": "5b7eb139",
   "metadata": {},
   "outputs": [],
   "source": []
  }
 ],
 "metadata": {
  "kernelspec": {
   "display_name": "env_ai",
   "language": "python",
   "name": "python3"
  },
  "language_info": {
   "codemirror_mode": {
    "name": "ipython",
    "version": 3
   },
   "file_extension": ".py",
   "mimetype": "text/x-python",
   "name": "python",
   "nbconvert_exporter": "python",
   "pygments_lexer": "ipython3",
   "version": "3.11.13"
  }
 },
 "nbformat": 4,
 "nbformat_minor": 5
}
