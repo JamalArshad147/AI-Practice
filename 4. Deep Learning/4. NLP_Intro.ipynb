{
 "cells": [
  {
   "cell_type": "code",
   "execution_count": 11,
   "id": "3aa2d2ad",
   "metadata": {},
   "outputs": [
    {
     "name": "stdout",
     "output_type": "stream",
     "text": [
      "Her cat's name is Luna\n"
     ]
    }
   ],
   "source": [
    "sentence = \"Her cat's name is Luna\"\n",
    "print(sentence)"
   ]
  },
  {
   "cell_type": "code",
   "execution_count": 12,
   "id": "a105ff20",
   "metadata": {},
   "outputs": [
    {
     "data": {
      "text/plain": [
       "\"her cat's name is luna\""
      ]
     },
     "execution_count": 12,
     "metadata": {},
     "output_type": "execute_result"
    }
   ],
   "source": [
    "sentence.lower()"
   ]
  },
  {
   "cell_type": "code",
   "execution_count": 13,
   "id": "0879ac9f",
   "metadata": {},
   "outputs": [
    {
     "data": {
      "text/plain": [
       "['His cat name starts with Z',\n",
       " \"Don't Come for Class late\",\n",
       " 'I like to watch Documentries']"
      ]
     },
     "execution_count": 13,
     "metadata": {},
     "output_type": "execute_result"
    }
   ],
   "source": [
    "sentence_list = [\"His cat name starts with Z\", \"Don't Come for Class late\", \"I like to watch Documentries\"]\n",
    "sentence_list"
   ]
  },
  {
   "cell_type": "code",
   "execution_count": 14,
   "id": "a4bb16b4",
   "metadata": {},
   "outputs": [
    {
     "data": {
      "text/plain": [
       "['his cat name starts with z',\n",
       " \"don't come for class late\",\n",
       " 'i like to watch documentries']"
      ]
     },
     "execution_count": 14,
     "metadata": {},
     "output_type": "execute_result"
    }
   ],
   "source": [
    "[x.lower() for x in sentence_list]"
   ]
  },
  {
   "cell_type": "markdown",
   "id": "7d6adc49",
   "metadata": {},
   "source": [
    "Stopwords are the words in the language which don't carry much meaning e.g. \"and\", \"of\", \"a\", \"to\"\n",
    "We remove these words because it removes a lot of complexity from the data. "
   ]
  },
  {
   "cell_type": "code",
   "execution_count": 15,
   "id": "be353937",
   "metadata": {},
   "outputs": [
    {
     "name": "stderr",
     "output_type": "stream",
     "text": [
      "[nltk_data] Downloading package stopwords to C:\\Users\\Jamal\n",
      "[nltk_data]     Arshad\\AppData\\Roaming\\nltk_data...\n",
      "[nltk_data]   Package stopwords is already up-to-date!\n"
     ]
    },
    {
     "data": {
      "text/plain": [
       "True"
      ]
     },
     "execution_count": 15,
     "metadata": {},
     "output_type": "execute_result"
    }
   ],
   "source": [
    "import nltk \n",
    "nltk.download('stopwords')"
   ]
  },
  {
   "cell_type": "code",
   "execution_count": 16,
   "id": "e3189f93",
   "metadata": {},
   "outputs": [
    {
     "data": {
      "text/plain": [
       "['a',\n",
       " 'about',\n",
       " 'above',\n",
       " 'after',\n",
       " 'again',\n",
       " 'against',\n",
       " 'ain',\n",
       " 'all',\n",
       " 'am',\n",
       " 'an',\n",
       " 'and',\n",
       " 'any',\n",
       " 'are',\n",
       " 'aren',\n",
       " \"aren't\",\n",
       " 'as',\n",
       " 'at',\n",
       " 'be',\n",
       " 'because',\n",
       " 'been',\n",
       " 'before',\n",
       " 'being',\n",
       " 'below',\n",
       " 'between',\n",
       " 'both',\n",
       " 'but',\n",
       " 'by',\n",
       " 'can',\n",
       " 'couldn',\n",
       " \"couldn't\",\n",
       " 'd',\n",
       " 'did',\n",
       " 'didn',\n",
       " \"didn't\",\n",
       " 'do',\n",
       " 'does',\n",
       " 'doesn',\n",
       " \"doesn't\",\n",
       " 'doing',\n",
       " 'don',\n",
       " \"don't\",\n",
       " 'down',\n",
       " 'during',\n",
       " 'each',\n",
       " 'few',\n",
       " 'for',\n",
       " 'from',\n",
       " 'further',\n",
       " 'had',\n",
       " 'hadn',\n",
       " \"hadn't\",\n",
       " 'has',\n",
       " 'hasn',\n",
       " \"hasn't\",\n",
       " 'have',\n",
       " 'haven',\n",
       " \"haven't\",\n",
       " 'having',\n",
       " 'he',\n",
       " \"he'd\",\n",
       " \"he'll\",\n",
       " 'her',\n",
       " 'here',\n",
       " 'hers',\n",
       " 'herself',\n",
       " \"he's\",\n",
       " 'him',\n",
       " 'himself',\n",
       " 'his',\n",
       " 'how',\n",
       " 'i',\n",
       " \"i'd\",\n",
       " 'if',\n",
       " \"i'll\",\n",
       " \"i'm\",\n",
       " 'in',\n",
       " 'into',\n",
       " 'is',\n",
       " 'isn',\n",
       " \"isn't\",\n",
       " 'it',\n",
       " \"it'd\",\n",
       " \"it'll\",\n",
       " \"it's\",\n",
       " 'its',\n",
       " 'itself',\n",
       " \"i've\",\n",
       " 'just',\n",
       " 'll',\n",
       " 'm',\n",
       " 'ma',\n",
       " 'me',\n",
       " 'mightn',\n",
       " \"mightn't\",\n",
       " 'more',\n",
       " 'most',\n",
       " 'mustn',\n",
       " \"mustn't\",\n",
       " 'my',\n",
       " 'myself',\n",
       " 'needn',\n",
       " \"needn't\",\n",
       " 'no',\n",
       " 'nor',\n",
       " 'not',\n",
       " 'now',\n",
       " 'o',\n",
       " 'of',\n",
       " 'off',\n",
       " 'on',\n",
       " 'once',\n",
       " 'only',\n",
       " 'or',\n",
       " 'other',\n",
       " 'our',\n",
       " 'ours',\n",
       " 'ourselves',\n",
       " 'out',\n",
       " 'over',\n",
       " 'own',\n",
       " 're',\n",
       " 's',\n",
       " 'same',\n",
       " 'shan',\n",
       " \"shan't\",\n",
       " 'she',\n",
       " \"she'd\",\n",
       " \"she'll\",\n",
       " \"she's\",\n",
       " 'should',\n",
       " 'shouldn',\n",
       " \"shouldn't\",\n",
       " \"should've\",\n",
       " 'so',\n",
       " 'some',\n",
       " 'such',\n",
       " 't',\n",
       " 'than',\n",
       " 'that',\n",
       " \"that'll\",\n",
       " 'the',\n",
       " 'their',\n",
       " 'theirs',\n",
       " 'them',\n",
       " 'themselves',\n",
       " 'then',\n",
       " 'there',\n",
       " 'these',\n",
       " 'they',\n",
       " \"they'd\",\n",
       " \"they'll\",\n",
       " \"they're\",\n",
       " \"they've\",\n",
       " 'this',\n",
       " 'those',\n",
       " 'through',\n",
       " 'to',\n",
       " 'too',\n",
       " 'under',\n",
       " 'until',\n",
       " 'up',\n",
       " 've',\n",
       " 'very',\n",
       " 'was',\n",
       " 'wasn',\n",
       " \"wasn't\",\n",
       " 'we',\n",
       " \"we'd\",\n",
       " \"we'll\",\n",
       " \"we're\",\n",
       " 'were',\n",
       " 'weren',\n",
       " \"weren't\",\n",
       " \"we've\",\n",
       " 'what',\n",
       " 'when',\n",
       " 'where',\n",
       " 'which',\n",
       " 'while',\n",
       " 'who',\n",
       " 'whom',\n",
       " 'why',\n",
       " 'will',\n",
       " 'with',\n",
       " 'won',\n",
       " \"won't\",\n",
       " 'wouldn',\n",
       " \"wouldn't\",\n",
       " 'y',\n",
       " 'you',\n",
       " \"you'd\",\n",
       " \"you'll\",\n",
       " 'your',\n",
       " \"you're\",\n",
       " 'yours',\n",
       " 'yourself',\n",
       " 'yourselves',\n",
       " \"you've\"]"
      ]
     },
     "execution_count": 16,
     "metadata": {},
     "output_type": "execute_result"
    }
   ],
   "source": [
    "from nltk.corpus import stopwords\n",
    "en_stopwords = stopwords.words('english')\n",
    "en_stopwords"
   ]
  },
  {
   "cell_type": "code",
   "execution_count": 17,
   "id": "87ac06cc",
   "metadata": {},
   "outputs": [
    {
     "data": {
      "text/plain": [
       "'It far go Layers want go'"
      ]
     },
     "execution_count": 17,
     "metadata": {},
     "output_type": "execute_result"
    }
   ],
   "source": [
    "sentence = \"It was too far to go to the Layers and he did not want her to go\"\n",
    "sentence_no_stopwords = ' '.join(word for word in sentence.split() if word not in (en_stopwords))\n",
    "sentence_no_stopwords"
   ]
  },
  {
   "cell_type": "code",
   "execution_count": 18,
   "id": "54537732",
   "metadata": {},
   "outputs": [
    {
     "data": {
      "text/plain": [
       "'It far go Layers did not want go'"
      ]
     },
     "execution_count": 18,
     "metadata": {},
     "output_type": "execute_result"
    }
   ],
   "source": [
    "en_stopwords.remove('did')\n",
    "en_stopwords.remove('not')\n",
    "sentence = \"It was too far to go to the Layers and he did not want her to go\"\n",
    "sentence_no_stopwords = ' '.join(word for word in sentence.split() if word not in (en_stopwords))\n",
    "sentence_no_stopwords"
   ]
  },
  {
   "cell_type": "code",
   "execution_count": 19,
   "id": "495805db",
   "metadata": {},
   "outputs": [
    {
     "data": {
      "text/plain": [
       "'It far Layers did not want'"
      ]
     },
     "execution_count": 19,
     "metadata": {},
     "output_type": "execute_result"
    }
   ],
   "source": [
    "en_stopwords.append('go')\n",
    "sentence = \"It was too far to go to the Layers and he did not want her to go\"\n",
    "sentence_no_stopwords = ' '.join(word for word in sentence.split() if word not in (en_stopwords))\n",
    "sentence_no_stopwords"
   ]
  },
  {
   "cell_type": "code",
   "execution_count": 20,
   "id": "98ef92ae",
   "metadata": {},
   "outputs": [],
   "source": [
    "# Regular Expressions\n",
    "\n",
    "import re"
   ]
  },
  {
   "cell_type": "code",
   "execution_count": 21,
   "id": "0a4cefd8",
   "metadata": {},
   "outputs": [
    {
     "name": "stdout",
     "output_type": "stream",
     "text": [
      "C:\\desktop\\notes\n"
     ]
    }
   ],
   "source": [
    "my_folder = r\"C:\\desktop\\notes\" # if we remove r from the start of the string it will consider \\n as new line escape sequence \n",
    "print(my_folder)"
   ]
  },
  {
   "cell_type": "code",
   "execution_count": 22,
   "id": "5da7b586",
   "metadata": {},
   "outputs": [
    {
     "data": {
      "text/plain": [
       "<re.Match object; span=(22, 29), match='pattern'>"
      ]
     },
     "execution_count": 22,
     "metadata": {},
     "output_type": "execute_result"
    }
   ],
   "source": [
    "# re.search()\n",
    "\n",
    "result_search = re.search(\"pattern\", r\"string containing the pattern\")\n",
    "result_search"
   ]
  },
  {
   "cell_type": "code",
   "execution_count": 23,
   "id": "770cc1e2",
   "metadata": {},
   "outputs": [
    {
     "name": "stdout",
     "output_type": "stream",
     "text": [
      "pattern\n"
     ]
    }
   ],
   "source": [
    "print(result_search.group())"
   ]
  },
  {
   "cell_type": "code",
   "execution_count": 24,
   "id": "5c054665",
   "metadata": {},
   "outputs": [
    {
     "name": "stdout",
     "output_type": "stream",
     "text": [
      "None\n"
     ]
    }
   ],
   "source": [
    "result_search = re.search(\"pattern\", r\"string containing the nothing\")\n",
    "print(result_search)"
   ]
  },
  {
   "cell_type": "code",
   "execution_count": 25,
   "id": "38fdc987",
   "metadata": {},
   "outputs": [
    {
     "data": {
      "text/plain": [
       "'Sara was able to help me find the items i needed quickly'"
      ]
     },
     "execution_count": 25,
     "metadata": {},
     "output_type": "execute_result"
    }
   ],
   "source": [
    "# re.sub\n",
    "string = r\"sara was able to help me find the items i needed quickly\"\n",
    "re.sub('sara', 'Sara', string)"
   ]
  },
  {
   "cell_type": "code",
   "execution_count": 26,
   "id": "528c6f79",
   "metadata": {},
   "outputs": [
    {
     "data": {
      "text/plain": [
       "['sam was a great help to me in the store',\n",
       " 'the cashier was very rude to me, I think her name was eleanor',\n",
       " 'amazing work from sadeen!',\n",
       " 'sarah was able to help me find the items i needed quickly',\n",
       " 'lucy is such a great addition to the team',\n",
       " 'great service from sara she me what i wanted']"
      ]
     },
     "execution_count": 26,
     "metadata": {},
     "output_type": "execute_result"
    }
   ],
   "source": [
    "customer_reviews = ['sam was a great help to me in the store', 'the cashier was very rude to me, I think her name was eleanor', 'amazing work from sadeen!', 'sarah was able to help me find the items i needed quickly', 'lucy is such a great addition to the team', 'great service from sara she me what i wanted']\n",
    "customer_reviews"
   ]
  },
  {
   "cell_type": "code",
   "execution_count": 27,
   "id": "65f869a6",
   "metadata": {},
   "outputs": [
    {
     "name": "stdout",
     "output_type": "stream",
     "text": [
      "sarah was able to help me find the items i needed quickly\n",
      "great service from sara she me what i wanted\n"
     ]
    }
   ],
   "source": [
    "for x in customer_reviews:\n",
    "    if 'sara' in x.lower():\n",
    "        print(x)"
   ]
  },
  {
   "cell_type": "code",
   "execution_count": 28,
   "id": "62da51d6",
   "metadata": {},
   "outputs": [
    {
     "data": {
      "text/plain": [
       "['sarah was able to help me find the items i needed quickly',\n",
       " 'great service from sara she me what i wanted']"
      ]
     },
     "execution_count": 28,
     "metadata": {},
     "output_type": "execute_result"
    }
   ],
   "source": [
    "sara_reviews = [x for x in customer_reviews if 'sara' in x.lower()] # [Expression  For_loop  Conditions]\n",
    "sara_reviews"
   ]
  },
  {
   "cell_type": "code",
   "execution_count": 29,
   "id": "faf4a5c4",
   "metadata": {},
   "outputs": [],
   "source": [
    "def search_reviews(pattern):\n",
    "    my_list = []\n",
    "    for string in customer_reviews:\n",
    "        if(re.search(pattern, string)):\n",
    "            my_list.append(string)\n",
    "    return my_list"
   ]
  },
  {
   "cell_type": "code",
   "execution_count": 30,
   "id": "4d384f08",
   "metadata": {},
   "outputs": [
    {
     "data": {
      "text/plain": [
       "['sarah was able to help me find the items i needed quickly',\n",
       " 'great service from sara she me what i wanted']"
      ]
     },
     "execution_count": 30,
     "metadata": {},
     "output_type": "execute_result"
    }
   ],
   "source": [
    "# find sarah's reviews from the reviews list using regex\n",
    "\n",
    "pattern_to_find = r\"sarah? \"\n",
    "search_reviews(pattern_to_find)"
   ]
  },
  {
   "cell_type": "code",
   "execution_count": 31,
   "id": "98b15831",
   "metadata": {},
   "outputs": [
    {
     "data": {
      "text/plain": [
       "['amazing work from sadeen!']"
      ]
     },
     "execution_count": 31,
     "metadata": {},
     "output_type": "execute_result"
    }
   ],
   "source": [
    "# Find reviews that with letter a\n",
    "\n",
    "pattern_to_find = r\"^a\"\n",
    "search_reviews(pattern_to_find)\n"
   ]
  },
  {
   "cell_type": "code",
   "execution_count": 32,
   "id": "bd9ce17b",
   "metadata": {},
   "outputs": [
    {
     "data": {
      "text/plain": [
       "['sarah was able to help me find the items i needed quickly']"
      ]
     },
     "execution_count": 32,
     "metadata": {},
     "output_type": "execute_result"
    }
   ],
   "source": [
    "# Find reviews that end with letter y\n",
    "\n",
    "pattern_to_find = 'y$'\n",
    "search_reviews(pattern_to_find)"
   ]
  },
  {
   "cell_type": "code",
   "execution_count": 33,
   "id": "44a4e1ea",
   "metadata": {},
   "outputs": [
    {
     "data": {
      "text/plain": [
       "['sarah was able to help me find the items i needed quickly',\n",
       " 'great service from sara she me what i wanted']"
      ]
     },
     "execution_count": 33,
     "metadata": {},
     "output_type": "execute_result"
    }
   ],
   "source": [
    "# Find reviews that contain the words needed or wanted\n",
    "\n",
    "pattern_to_find = r\"(need|want)ed\"\n",
    "search_reviews(pattern_to_find)"
   ]
  },
  {
   "cell_type": "code",
   "execution_count": 34,
   "id": "5f6db234",
   "metadata": {},
   "outputs": [
    {
     "data": {
      "text/plain": [
       "['sam was a great help to me in the store',\n",
       " 'the cashier was very rude to me, I think her name was eleanor',\n",
       " 'amazing work from sadeen!',\n",
       " 'sarah was able to help me find the items i needed quickly',\n",
       " 'lucy is such a great addition to the team',\n",
       " 'great service from sara she me what i wanted']"
      ]
     },
     "execution_count": 34,
     "metadata": {},
     "output_type": "execute_result"
    }
   ],
   "source": [
    "# Remove anything from the review that isn't a word or a space (i.e remove punctuation)\n",
    "\n",
    "no_puntuations = []\n",
    "pattern_to_find = r\"^\\w\\s\"\n",
    "for string in customer_reviews:\n",
    "    temp_string = re.sub(pattern_to_find, \"\", string)\n",
    "    no_puntuations.append(temp_string)\n",
    "no_puntuations"
   ]
  },
  {
   "cell_type": "code",
   "execution_count": 35,
   "id": "2bd6ff52",
   "metadata": {},
   "outputs": [
    {
     "name": "stderr",
     "output_type": "stream",
     "text": [
      "[nltk_data] Downloading package punkt_tab to C:\\Users\\Jamal\n",
      "[nltk_data]     Arshad\\AppData\\Roaming\\nltk_data...\n",
      "[nltk_data]   Package punkt_tab is already up-to-date!\n"
     ]
    }
   ],
   "source": [
    "# Tokenization\n",
    "\n",
    "nltk.download('punkt_tab')\n",
    "from nltk.tokenize import word_tokenize, sent_tokenize"
   ]
  },
  {
   "cell_type": "code",
   "execution_count": 36,
   "id": "540ad41e",
   "metadata": {},
   "outputs": [
    {
     "data": {
      "text/plain": [
       "['His dog name is Tommy.', 'He likes to eat a ton of dog food.']"
      ]
     },
     "execution_count": 36,
     "metadata": {},
     "output_type": "execute_result"
    }
   ],
   "source": [
    "sentence = \"His dog name is Tommy. He likes to eat a ton of dog food.\"\n",
    "sent_tokenize(sentence)"
   ]
  },
  {
   "cell_type": "code",
   "execution_count": 37,
   "id": "86638d9f",
   "metadata": {},
   "outputs": [
    {
     "data": {
      "text/plain": [
       "['His',\n",
       " 'dog',\n",
       " 'name',\n",
       " 'is',\n",
       " 'Tommy',\n",
       " '.',\n",
       " 'He',\n",
       " 'likes',\n",
       " 'to',\n",
       " 'eat',\n",
       " 'a',\n",
       " 'ton',\n",
       " 'of',\n",
       " 'dog',\n",
       " 'food',\n",
       " '.']"
      ]
     },
     "execution_count": 37,
     "metadata": {},
     "output_type": "execute_result"
    }
   ],
   "source": [
    "sentence = \"His dog name is Tommy. He likes to eat a ton of dog food.\"\n",
    "word_tokenize(sentence)"
   ]
  },
  {
   "cell_type": "code",
   "execution_count": 38,
   "id": "f4c8fa63",
   "metadata": {},
   "outputs": [
    {
     "name": "stdout",
     "output_type": "stream",
     "text": [
      "connecting  :  connect\n",
      "connected  :  connect\n",
      "connectivity  :  connect\n",
      "connection  :  connect\n",
      "connect  :  connect\n",
      "connects  :  connect\n"
     ]
    }
   ],
   "source": [
    "# Stemming \n",
    "\n",
    "from nltk.stem import PorterStemmer\n",
    "ps = PorterStemmer()\n",
    "connect_tokens = ['connecting', 'connected', 'connectivity', 'connection', 'connect', 'connects']\n",
    "for word in connect_tokens:\n",
    "    print(word, \" : \", ps.stem(word))"
   ]
  },
  {
   "cell_type": "code",
   "execution_count": 39,
   "id": "8354a25e",
   "metadata": {},
   "outputs": [
    {
     "name": "stdout",
     "output_type": "stream",
     "text": [
      "learning  :  learn\n",
      "learns  :  learn\n",
      "learned  :  learn\n",
      "Learn  :  learn\n"
     ]
    }
   ],
   "source": [
    "learn_tokens = ['learning', \"learns\", 'learned', 'Learn']\n",
    "for word in learn_tokens:\n",
    "    print(word, \" : \", ps.stem(word))"
   ]
  },
  {
   "cell_type": "code",
   "execution_count": 40,
   "id": "7dfc6592",
   "metadata": {},
   "outputs": [
    {
     "name": "stderr",
     "output_type": "stream",
     "text": [
      "[nltk_data] Downloading package wordnet to C:\\Users\\Jamal\n",
      "[nltk_data]     Arshad\\AppData\\Roaming\\nltk_data...\n",
      "[nltk_data]   Package wordnet is already up-to-date!\n"
     ]
    }
   ],
   "source": [
    "# Lemmatization\n",
    "# Where Stemming removes the last few characters of a word, lemmatization  stems  the word to a more meaningful  base form and ensures it does not lose its meaning. Lemmatization works more intelligently, referencing a predefined dictionary containing the context  of words and uses this when diminishing the word to the base form. \n",
    "\n",
    "connect_tokens = ['connecting', 'connected', 'connectivity', 'connection', 'connect', 'connects']\n",
    "learn_tokens = ['learning', \"learns\", 'learned', 'Learn', 'learners']\n",
    "likes_tokens = ['likes', 'better', 'worse']\n",
    "\n",
    "nltk.download('wordnet')\n",
    "from nltk.stem import WordNetLemmatizer\n",
    "wnl = WordNetLemmatizer()"
   ]
  },
  {
   "cell_type": "code",
   "execution_count": 41,
   "id": "96d360b2",
   "metadata": {},
   "outputs": [
    {
     "name": "stdout",
     "output_type": "stream",
     "text": [
      "likes  :  like\n",
      "better  :  better\n",
      "worse  :  worse\n"
     ]
    }
   ],
   "source": [
    "for word in likes_tokens:\n",
    "    print(word, \" : \", wnl.lemmatize(word))"
   ]
  },
  {
   "cell_type": "code",
   "execution_count": 42,
   "id": "f6af7563",
   "metadata": {},
   "outputs": [],
   "source": [
    "# Libs\n",
    "\n",
    "import nltk\n",
    "import matplotlib.pyplot as plt\n",
    "import pandas as pd\n",
    "import numpy as np"
   ]
  },
  {
   "cell_type": "code",
   "execution_count": 43,
   "id": "26d7c4cd",
   "metadata": {},
   "outputs": [],
   "source": [
    "# N-grams\n",
    "# We can break out text  down into n-grams to check our preprocessing, explore the contents of our data, or create new features  for machine laerning. An n-gram is simply a sequence of neighbouring n words (or tokens), where n can be any number.  \n",
    "\n",
    "tokens = [\n",
    "    'the', 'rise', 'of', 'artificial', 'intelligence', 'has', 'led', 'to', \n",
    "    'significant', 'advancements', 'in', 'natural', 'language', 'processing', \n",
    "    'computer', 'vision', 'and', 'other', 'fields', 'machine', 'learning', \n",
    "    'algorithms', 'are', 'becoming', 'more', 'sophisticated', 'enabling', \n",
    "    'computers', 'to', 'perform', 'complex', 'tasks', 'that', 'were', 'once', \n",
    "    'thought', 'to', 'be', 'the', 'exclusive', 'domain', 'of', 'humans', \n",
    "    'with', 'the', 'advent', 'of', 'deep', 'learning', 'neural', 'networks', \n",
    "    'have', 'become', 'even', 'more', 'powerful', 'capable', 'of', \n",
    "    'processing', 'vast', 'amounts', 'of', 'data', 'and', 'learning', 'from', \n",
    "    'it', 'in', 'ways', 'that', 'were', 'not', 'possible', 'before', 'as', 'a', \n",
    "    'result', 'ai', 'is', 'increasingly', 'being', 'used', 'in', 'a', 'wide', \n",
    "    'range', 'of', 'industries', 'from', 'healthcare', 'to', 'finance', 'to', \n",
    "    'transportation', 'and', 'its', 'impact', 'is', 'only', 'set', 'to', 'grow', \n",
    "    'in', 'the', 'years', 'to', 'come'\n",
    "]"
   ]
  },
  {
   "cell_type": "code",
   "execution_count": 44,
   "id": "d6127deb",
   "metadata": {},
   "outputs": [
    {
     "name": "stdout",
     "output_type": "stream",
     "text": [
      "(to,)          7\n",
      "(of,)          6\n",
      "(the,)         4\n",
      "(in,)          4\n",
      "(learning,)    3\n",
      "              ..\n",
      "(humans,)      1\n",
      "(rise,)        1\n",
      "(advent,)      1\n",
      "(deep,)        1\n",
      "(come,)        1\n",
      "Name: count, Length: 79, dtype: int64\n"
     ]
    }
   ],
   "source": [
    "# Uni-Gram: n=1\n",
    "unigrams = (pd.Series(nltk.ngrams(tokens, 1)).value_counts())\n",
    "print(unigrams)"
   ]
  },
  {
   "cell_type": "code",
   "execution_count": 45,
   "id": "251315d2",
   "metadata": {},
   "outputs": [
    {
     "data": {
      "text/plain": [
       "Text(0, 0.5, 'Unigram')"
      ]
     },
     "execution_count": 45,
     "metadata": {},
     "output_type": "execute_result"
    },
    {
     "data": {
      "image/png": "[encoded data removed]",
      "text/plain": [
       "<Figure size 1200x800 with 1 Axes>"
      ]
     },
     "metadata": {},
     "output_type": "display_data"
    }
   ],
   "source": [
    "unigrams[0:10].sort_values().plot.barh(color='lightsalmon', width=0.9, figsize=(12,8))\n",
    "plt.title(\"10 Most frequently values\")\n",
    "plt.xlabel(\"#No\")\n",
    "plt.ylabel('Unigram')"
   ]
  },
  {
   "cell_type": "code",
   "execution_count": 46,
   "id": "a11ec55c",
   "metadata": {},
   "outputs": [
    {
     "name": "stdout",
     "output_type": "stream",
     "text": [
      "(that, were)             2\n",
      "(the, rise)              1\n",
      "(increasingly, being)    1\n",
      "(ai, is)                 1\n",
      "(result, ai)             1\n",
      "                        ..\n",
      "(tasks, that)            1\n",
      "(complex, tasks)         1\n",
      "(perform, complex)       1\n",
      "(to, perform)            1\n",
      "(to, come)               1\n",
      "Name: count, Length: 105, dtype: int64\n"
     ]
    }
   ],
   "source": [
    "# Bi-Gram: n=2\n",
    "bigrams = (pd.Series(nltk.ngrams(tokens, 2)).value_counts())\n",
    "print(bigrams)"
   ]
  },
  {
   "cell_type": "code",
   "execution_count": 47,
   "id": "128b3950",
   "metadata": {},
   "outputs": [
    {
     "data": {
      "text/plain": [
       "Text(0, 0.5, 'Bigram')"
      ]
     },
     "execution_count": 47,
     "metadata": {},
     "output_type": "execute_result"
    },
    {
     "data": {
      "image/png": "[encoded data removed]",
      "text/plain": [
       "<Figure size 1200x800 with 1 Axes>"
      ]
     },
     "metadata": {},
     "output_type": "display_data"
    }
   ],
   "source": [
    "bigrams[0:10].sort_values().plot.barh(color='lightsalmon', width=0.9, figsize=(12,8))\n",
    "plt.title(\"10 Most frequently values\")\n",
    "plt.xlabel(\"#No\")\n",
    "plt.ylabel('Bigram')"
   ]
  },
  {
   "cell_type": "code",
   "execution_count": 48,
   "id": "b5388609",
   "metadata": {},
   "outputs": [
    {
     "name": "stdout",
     "output_type": "stream",
     "text": [
      "(the, rise, of)              1\n",
      "(even, more, powerful)       1\n",
      "(ai, is, increasingly)       1\n",
      "(result, ai, is)             1\n",
      "(a, result, ai)              1\n",
      "                            ..\n",
      "(that, were, once)           1\n",
      "(tasks, that, were)          1\n",
      "(complex, tasks, that)       1\n",
      "(perform, complex, tasks)    1\n",
      "(years, to, come)            1\n",
      "Name: count, Length: 105, dtype: int64\n"
     ]
    }
   ],
   "source": [
    "# Tri-Gram: n=2\n",
    "trigrams = (pd.Series(nltk.ngrams(tokens, 3)).value_counts())\n",
    "print(trigrams)"
   ]
  },
  {
   "cell_type": "code",
   "execution_count": 49,
   "id": "40b10dff",
   "metadata": {},
   "outputs": [
    {
     "data": {
      "text/plain": [
       "Text(0, 0.5, 'Trigram')"
      ]
     },
     "execution_count": 49,
     "metadata": {},
     "output_type": "execute_result"
    },
    {
     "data": {
      "image/png": "[encoded data removed]",
      "text/plain": [
       "<Figure size 1200x800 with 1 Axes>"
      ]
     },
     "metadata": {},
     "output_type": "display_data"
    }
   ],
   "source": [
    "trigrams[0:10].sort_values().plot.barh(color='lightsalmon', width=0.9, figsize=(12,8))\n",
    "plt.title(\"10 Most frequently values\")\n",
    "plt.xlabel(\"#No\")\n",
    "plt.ylabel('Trigram')"
   ]
  },
  {
   "cell_type": "code",
   "execution_count": null,
   "id": "2c6fc212",
   "metadata": {},
   "outputs": [],
   "source": []
  }
 ],
 "metadata": {
  "kernelspec": {
   "display_name": "env_ai",
   "language": "python",
   "name": "python3"
  },
  "language_info": {
   "codemirror_mode": {
    "name": "ipython",
    "version": 3
   },
   "file_extension": ".py",
   "mimetype": "text/x-python",
   "name": "python",
   "nbconvert_exporter": "python",
   "pygments_lexer": "ipython3",
   "version": "3.11.13"
  }
 },
 "nbformat": 4,
 "nbformat_minor": 5
}
