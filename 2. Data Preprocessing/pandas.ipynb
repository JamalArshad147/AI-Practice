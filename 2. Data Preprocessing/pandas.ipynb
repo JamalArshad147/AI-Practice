{
 "cells": [
  {
   "cell_type": "markdown",
   "id": "75602f38",
   "metadata": {},
   "source": [
    "you can get data from 'https://www.data.gov', 'https://www.kaggle.com/',\n"
   ]
  },
  {
   "cell_type": "code",
   "execution_count": 1,
   "id": "80a64a3a",
   "metadata": {},
   "outputs": [
    {
     "name": "stdout",
     "output_type": "stream",
     "text": [
      "^C\n"
     ]
    }
   ],
   "source": [
    "! pip install pandas"
   ]
  },
  {
   "cell_type": "code",
   "execution_count": null,
   "metadata": {},
   "outputs": [],
   "source": [
    "import pandas as pd"
   ]
  },
  {
   "cell_type": "code",
   "execution_count": null,
   "id": "70c4f295",
   "metadata": {},
   "outputs": [],
   "source": [
    "data = pd.read_csv(\"bestsellers.csv\")"
   ]
  },
  {
   "cell_type": "code",
   "execution_count": null,
   "id": "6b2b147c",
   "metadata": {},
   "outputs": [],
   "source": [
    "data"
   ]
  },
  {
   "cell_type": "code",
   "execution_count": null,
   "id": "29936cff",
   "metadata": {},
   "outputs": [],
   "source": [
    "data.shape"
   ]
  },
  {
   "cell_type": "code",
   "execution_count": null,
   "id": "c71548ea",
   "metadata": {},
   "outputs": [],
   "source": [
    "data.columns"
   ]
  },
  {
   "cell_type": "code",
   "execution_count": null,
   "id": "f26ba68e",
   "metadata": {},
   "outputs": [],
   "source": [
    "data.head()  # print first 5 rows\n",
    "data.head(10)"
   ]
  },
  {
   "cell_type": "code",
   "execution_count": null,
   "id": "b216cd41",
   "metadata": {},
   "outputs": [],
   "source": [
    "data.tail()  # prints last  5 rows\n",
    "data.tail(10)"
   ]
  },
  {
   "cell_type": "code",
   "execution_count": null,
   "id": "f39b4a51",
   "metadata": {},
   "outputs": [],
   "source": [
    "data.describe()  # only shows numerical comlumns data"
   ]
  },
  {
   "cell_type": "code",
   "execution_count": null,
   "id": "1214d4b9",
   "metadata": {},
   "outputs": [],
   "source": [
    "data.info()"
   ]
  },
  {
   "cell_type": "code",
   "execution_count": null,
   "id": "1564f22a",
   "metadata": {},
   "outputs": [],
   "source": [
    "data.sample(10)"
   ]
  },
  {
   "cell_type": "markdown",
   "id": "150ca83a",
   "metadata": {},
   "source": [
    "dataframe is \"2D, size mutable, potentially heterogeneous tablubar data structure with labeled axes\"\n"
   ]
  },
  {
   "cell_type": "code",
   "execution_count": null,
   "id": "04227e27",
   "metadata": {},
   "outputs": [],
   "source": [
    "data[\"Name\"]"
   ]
  },
  {
   "cell_type": "code",
   "execution_count": null,
   "id": "0cf70aec",
   "metadata": {},
   "outputs": [],
   "source": [
    "tab = pd.read_csv(\"movie_titles.tsv\", sep=\"\\t\")"
   ]
  },
  {
   "cell_type": "code",
   "execution_count": null,
   "id": "77ff0184",
   "metadata": {},
   "outputs": [],
   "source": [
    "tab"
   ]
  },
  {
   "cell_type": "code",
   "execution_count": null,
   "id": "0f708219",
   "metadata": {},
   "outputs": [],
   "source": [
    "# data.options.display.max_rows = 100 # to change how much it shows on the display\n",
    "net = pd.read_csv(\"netflix_titles.csv\", sep=\"|\", index_col=0)\n",
    "# net.head()\n",
    "net[\"type\"].unique()  # unique data\n",
    "net[\"type\"].nunique()  # number of unique"
   ]
  },
  {
   "cell_type": "code",
   "execution_count": null,
   "id": "a60c1a5b",
   "metadata": {},
   "outputs": [],
   "source": [
    "net.info()"
   ]
  },
  {
   "cell_type": "code",
   "execution_count": null,
   "id": "31fbdb86",
   "metadata": {},
   "outputs": [],
   "source": [
    "net.dropna(inplace=True)\n",
    "net.info()"
   ]
  },
  {
   "cell_type": "code",
   "execution_count": null,
   "id": "886b9380",
   "metadata": {},
   "outputs": [],
   "source": [
    "net.isna().sum()"
   ]
  },
  {
   "cell_type": "code",
   "execution_count": null,
   "id": "6ac99550",
   "metadata": {},
   "outputs": [],
   "source": [
    "net.to_csv(\"cleaned_netflix.csv\", index=False)"
   ]
  },
  {
   "cell_type": "code",
   "execution_count": null,
   "id": "ff0ef593",
   "metadata": {},
   "outputs": [],
   "source": [
    "bs = pd.read_csv(\"bestsellers.csv\")"
   ]
  },
  {
   "cell_type": "code",
   "execution_count": null,
   "id": "a834de38",
   "metadata": {},
   "outputs": [],
   "source": [
    "bs[\"User Rating\"].nsmallest(1)"
   ]
  },
  {
   "cell_type": "code",
   "execution_count": null,
   "id": "ecbab245",
   "metadata": {},
   "outputs": [],
   "source": [
    "bs[bs[\"User Rating\"] == 4.9]"
   ]
  },
  {
   "cell_type": "code",
   "execution_count": null,
   "id": "c6957951",
   "metadata": {},
   "outputs": [],
   "source": [
    "bs[\"User Rating\"].nlargest(1)"
   ]
  },
  {
   "cell_type": "code",
   "execution_count": null,
   "id": "75be3e56",
   "metadata": {},
   "outputs": [],
   "source": [
    "bs[\"User Rating\"].value_counts()"
   ]
  },
  {
   "cell_type": "code",
   "execution_count": null,
   "id": "3a4ca7ec",
   "metadata": {},
   "outputs": [],
   "source": [
    "bs.sum(numeric_only=True)"
   ]
  },
  {
   "cell_type": "code",
   "execution_count": null,
   "id": "bf1f6a33",
   "metadata": {},
   "outputs": [],
   "source": [
    "bs.min(numeric_only=True)\n",
    "bs.max(numeric_only=True)"
   ]
  },
  {
   "cell_type": "code",
   "execution_count": null,
   "id": "65fbdd1e",
   "metadata": {},
   "outputs": [],
   "source": [
    "bs.mean()  # average value\n",
    "bs.median()  # central value\n",
    "bs.mode()  # mode frequent value"
   ]
  },
  {
   "cell_type": "markdown",
   "id": "f15a15b4",
   "metadata": {},
   "source": [
    "Next are from ML roadmaps content\n"
   ]
  },
  {
   "cell_type": "code",
   "execution_count": null,
   "id": "35d95d68",
   "metadata": {},
   "outputs": [],
   "source": [
    "# Series -> 1 column of data\n",
    "\n",
    "data = [100, 102, 204, 200, 2002]\n",
    "\n",
    "my_series = pd.Series(data, index=[\"a\", \"b\", \"c\", \"d\", \"e\"])\n",
    "\n",
    "print(my_series.loc[\"a\"])  # select by location label\n",
    "\n",
    "my_series.loc[\"b\"] = 300\n",
    "\n",
    "print(my_series.loc[\"b\"])  # select by location label\n",
    "\n",
    "print(my_series.iloc[0])  # select by location index\n",
    "\n",
    "print(my_series[my_series < 200])"
   ]
  },
  {
   "cell_type": "code",
   "execution_count": null,
   "id": "22fe063b",
   "metadata": {},
   "outputs": [],
   "source": [
    "data = {\"Day-1\": 1800, \"Day-2\": 2200, \"Day-3\": 1600}\n",
    "\n",
    "my_series = pd.Series(data)\n",
    "\n",
    "my_series[\"Day-1\"] += 500\n",
    "\n",
    "print(my_series)"
   ]
  },
  {
   "cell_type": "code",
   "execution_count": null,
   "id": "cacb928c",
   "metadata": {},
   "outputs": [],
   "source": [
    "# DataFrame 2D table\n",
    "\n",
    "data = {\"Name\": [\"Jamal\", \"Ali\", \"Hamza\"], \"Age\": [30, 35, 50]}\n",
    "\n",
    "df = pd.DataFrame(data, index=[\"Employee 1\", \"Employee 2\", \"Employee 3\"])\n",
    "\n",
    "\n",
    "df[\"Job\"] = [\"Pragrammer\", \"DevOps\", \"Cloud Engineer\"]  # add a new column\n",
    "\n",
    "new_row = pd.DataFrame(\n",
    "    [\n",
    "        {\"Name\": \"Abdul Rehman\", \"Age\": 25, \"Job\": \"AI Engineer\"},\n",
    "        {\"Name\": \"Hassan\", \"Age\": 25, \"Job\": \"ML Engineer\"},\n",
    "    ],\n",
    "    index=[\"Employee 4\", \"Employee 5\"],\n",
    ")\n",
    "\n",
    "df = pd.concat([df, new_row])  # add a new row\n",
    "\n",
    "print(df)\n",
    "\n",
    "\n",
    "# print(df.loc[\"Employee 1\"])\n",
    "\n",
    "# print(df.iloc[1])"
   ]
  },
  {
   "cell_type": "code",
   "execution_count": null,
   "id": "7b522230",
   "metadata": {},
   "outputs": [],
   "source": [
    "# Importing JSON\n",
    "\n",
    "df = pd.read_json(\"test_data.json\")\n",
    "\n",
    "print(df)"
   ]
  },
  {
   "cell_type": "code",
   "execution_count": null,
   "id": "010a3770",
   "metadata": {},
   "outputs": [],
   "source": [
    "# Secltion\n",
    "\n",
    "df = pd.read_csv(\n",
    "    \"netflix_titles.csv\",\n",
    "    sep=\"|\",\n",
    "    index_col=\"index\",\n",
    ")\n",
    "\n",
    "\n",
    "# By Column ->\n",
    "\n",
    "# print(df[[\"title\", \"release_year\", \"rating\"]].to_string())\n",
    "\n",
    "\n",
    "# -------------\n",
    "\n",
    "# By Row ->\n",
    "\n",
    "# selected_columns = df.loc[\n",
    "\n",
    "#     # df[\"rating\"] == \"PG\", # Filtering where Rating is PG\n",
    "#     (df[\"rating\"] == \"PG\") & (df[\"release_year\"] == 2000), # Filtering using &. We didn't use 'and' because Pandas and NumPy has C Array on the backend\n",
    "\n",
    "\n",
    "# #     0:20:2, # from 0 to 20 records\n",
    "\n",
    "#     [\"title\", \"release_year\", \"rating\"],\n",
    "# ]\n",
    "\n",
    "# print(selected_columns.to_string())\n",
    "\n",
    "\n",
    "# -------------"
   ]
  },
  {
   "cell_type": "code",
   "execution_count": null,
   "id": "23d583fc",
   "metadata": {},
   "outputs": [],
   "source": [
    "# Aggregation Functions -> Reduce a set of values into a single value\n",
    "\n",
    "df = pd.read_csv(\n",
    "    \"netflix_titles.csv\",\n",
    "    sep=\"|\",\n",
    "    index_col=\"index\",\n",
    ")\n",
    "\n",
    "# Whole DataFrame\n",
    "# print(df.mean(numeric_only=True))\n",
    "# print(df.sum(numeric_only=True))\n",
    "# print(df.min(numeric_only=True))\n",
    "# print(df.max(numeric_only=True))\n",
    "# print(df.count(numeric_only=True))\n",
    "\n",
    "# For Single Column\n",
    "# print(df['release_year'].mean())\n",
    "# print(df['release_year'].sum())\n",
    "# print(df['release_year'].min())\n",
    "# print(df['release_year'].max())\n",
    "# print(df['release_year'].count())\n",
    "\n",
    "group = df.groupby(\"type\")\n",
    "\n",
    "print(group[\"release_year\"].count())"
   ]
  },
  {
   "cell_type": "code",
   "execution_count": null,
   "id": "f20010e8",
   "metadata": {},
   "outputs": [],
   "source": [
    "# Data Cleaning\n",
    "\n",
    "df = pd.read_csv(\n",
    "    \"netflix_titles.csv\",\n",
    "    sep=\"|\",\n",
    "    index_col=\"index\",\n",
    ")\n",
    "\n",
    "\n",
    "# 1. Drop irrelevant column\n",
    "# df = df.drop(columns=[\"type\", \"title\"])\n",
    "\n",
    "# 2. Handle missing data \n",
    "# df = df.dropna(subset=\"cast\") # will drop rows\n",
    "# df = df.fillna({\"type\": \"None\"})\n",
    "\n",
    "# 3. fix inconsistent values\n",
    "# df = df['type'].replace({'Movie': \"MOVIE\", 'TV Show': 'TV SHOW'})\n",
    "\n",
    "# 4. Standardize Text\n",
    "# df['type'] = df['type'].str.lower()\n",
    "\n",
    "# 5. Fix and Change DataTypes\n",
    "# df['type'] = df[\"type\"].astype(bool)\n",
    "\n",
    "# 6. Remove Duplicate Values\n",
    "# df = df.drop_duplicates()\n",
    "\n",
    "\n",
    "df"
   ]
  },
  {
   "cell_type": "code",
   "execution_count": null,
   "id": "be013d87",
   "metadata": {},
   "outputs": [
    {
     "data": {
      "image/png": "[encoded data removed]",
      "text/plain": [
       "<Figure size 640x480 with 1 Axes>"
      ]
     },
     "metadata": {},
     "output_type": "display_data"
    }
   ],
   "source": [
    "# Plot\n",
    "\n",
    "import pandas as pd\n",
    "import matplotlib.pyplot as plt\n",
    "\n",
    "df = pd.read_csv('correlation.csv')\n",
    "\n",
    "# df.plot(kind='scatter', x='Duration', y='Calories')\n",
    "df['Duration'].plot(kind='hist')\n",
    "\n",
    "plt.show()"
   ]
  }
 ],
 "metadata": {
  "kernelspec": {
   "display_name": "my_env_ai",
   "language": "python",
   "name": "python3"
  },
  "language_info": {
   "codemirror_mode": {
    "name": "ipython",
    "version": 3
   },
   "file_extension": ".py",
   "mimetype": "text/x-python",
   "name": "python",
   "nbconvert_exporter": "python",
   "pygments_lexer": "ipython3",
   "version": "3.13.7"
  }
 },
 "nbformat": 4,
 "nbformat_minor": 5
}
