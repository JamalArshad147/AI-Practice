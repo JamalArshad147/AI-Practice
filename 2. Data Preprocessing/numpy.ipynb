{
 "cells": [
  {
   "cell_type": "markdown",
   "id": "b8e35e24",
   "metadata": {},
   "source": [
    "# NumPy first lecture\n",
    "\n",
    "'! pip install numpy'\n",
    "\n",
    "- Vector -> 1D\n",
    "- Matrices -> 2D\n",
    "\n"
   ]
  },
  {
   "cell_type": "code",
   "execution_count": 1,
   "id": "b9d93758",
   "metadata": {},
   "outputs": [
    {
     "name": "stdout",
     "output_type": "stream",
     "text": [
      "Requirement already satisfied: numpy in c:\\users\\jamal arshad\\miniconda3\\envs\\my_env_ai\\lib\\site-packages (2.3.3)\n"
     ]
    }
   ],
   "source": [
    "! pip install numpy"
   ]
  },
  {
   "cell_type": "code",
   "execution_count": 2,
   "id": "f7d9b73c",
   "metadata": {},
   "outputs": [],
   "source": [
    "lst_1 = [1,2,3,4,5,6,7,8,9]\n",
    "lst_2 = [[1,2,3], [4,5,6,], [7,8,9]]"
   ]
  },
  {
   "cell_type": "code",
   "execution_count": 3,
   "id": "0366676b",
   "metadata": {},
   "outputs": [],
   "source": [
    "import numpy as np"
   ]
  },
  {
   "cell_type": "code",
   "execution_count": 4,
   "id": "6a06c667",
   "metadata": {},
   "outputs": [
    {
     "data": {
      "text/plain": [
       "array([[1, 2, 3],\n",
       "       [4, 5, 6],\n",
       "       [7, 8, 9]])"
      ]
     },
     "execution_count": 4,
     "metadata": {},
     "output_type": "execute_result"
    }
   ],
   "source": [
    "arr_2 = np.array(lst_2)\n",
    "arr_2"
   ]
  },
  {
   "cell_type": "code",
   "execution_count": 5,
   "id": "1d727206",
   "metadata": {},
   "outputs": [],
   "source": [
    "a = np.array([1,3,5,7,9])"
   ]
  },
  {
   "cell_type": "code",
   "execution_count": 6,
   "id": "8bf4cc4e",
   "metadata": {},
   "outputs": [
    {
     "data": {
      "text/plain": [
       "array([1, 3, 5, 7])"
      ]
     },
     "execution_count": 6,
     "metadata": {},
     "output_type": "execute_result"
    }
   ],
   "source": [
    "np.arange(1,9,2)"
   ]
  },
  {
   "cell_type": "code",
   "execution_count": 7,
   "metadata": {},
   "outputs": [
    {
     "data": {
      "text/plain": [
       "(3, 4)"
      ]
     },
     "execution_count": 7,
     "metadata": {},
     "output_type": "execute_result"
    }
   ],
   "source": [
    "z = np.zeros((3,4))\n",
    "z.shape"
   ]
  },
  {
   "cell_type": "code",
   "execution_count": 8,
   "metadata": {},
   "outputs": [
    {
     "data": {
      "text/plain": [
       "(5,)"
      ]
     },
     "execution_count": 8,
     "metadata": {},
     "output_type": "execute_result"
    }
   ],
   "source": [
    "z_2 = np.zeros(5)\n",
    "z_2.shape # note that it is not 1x5, its 5 only "
   ]
  },
  {
   "cell_type": "code",
   "execution_count": 9,
   "id": "7e668eef",
   "metadata": {},
   "outputs": [
    {
     "data": {
      "text/plain": [
       "array([[1., 1., 1., 1.],\n",
       "       [1., 1., 1., 1.],\n",
       "       [1., 1., 1., 1.],\n",
       "       [1., 1., 1., 1.]])"
      ]
     },
     "execution_count": 9,
     "metadata": {},
     "output_type": "execute_result"
    }
   ],
   "source": [
    "ones = np.ones((4,4))\n",
    "ones"
   ]
  },
  {
   "cell_type": "code",
   "execution_count": 10,
   "id": "56a5f348",
   "metadata": {},
   "outputs": [
    {
     "data": {
      "text/plain": [
       "array([1.        , 1.44444444, 1.88888889, 2.33333333, 2.77777778,\n",
       "       3.22222222, 3.66666667, 4.11111111, 4.55555556, 5.        ])"
      ]
     },
     "execution_count": 10,
     "metadata": {},
     "output_type": "execute_result"
    }
   ],
   "source": [
    "np.linspace(1,5, 10) # these values will be evenly spaced\n"
   ]
  },
  {
   "cell_type": "code",
   "execution_count": 11,
   "id": "a0eacc10",
   "metadata": {},
   "outputs": [
    {
     "data": {
      "text/plain": [
       "array([[1., 0., 0., 0.],\n",
       "       [0., 1., 0., 0.],\n",
       "       [0., 0., 1., 0.],\n",
       "       [0., 0., 0., 1.]])"
      ]
     },
     "execution_count": 11,
     "metadata": {},
     "output_type": "execute_result"
    }
   ],
   "source": [
    "np.eye(4)"
   ]
  },
  {
   "cell_type": "code",
   "execution_count": 12,
   "id": "bfd2c040",
   "metadata": {},
   "outputs": [],
   "source": [
    "i = np.random.rand(10,10)"
   ]
  },
  {
   "cell_type": "code",
   "execution_count": 13,
   "id": "b1b065cc",
   "metadata": {},
   "outputs": [
    {
     "data": {
      "text/plain": [
       "np.int64(94)"
      ]
     },
     "execution_count": 13,
     "metadata": {},
     "output_type": "execute_result"
    }
   ],
   "source": [
    "i.max() # get max value\n",
    "i.argmax() # get index of max value\n",
    "i.min()  # get of max value\n",
    "i.argmin()  # get index of max value"
   ]
  },
  {
   "cell_type": "code",
   "execution_count": 14,
   "id": "1d7d52e5",
   "metadata": {},
   "outputs": [
    {
     "data": {
      "text/plain": [
       "2"
      ]
     },
     "execution_count": 14,
     "metadata": {},
     "output_type": "execute_result"
    }
   ],
   "source": [
    "np.random.randint(10)"
   ]
  },
  {
   "cell_type": "code",
   "execution_count": 15,
   "id": "7baeeda1",
   "metadata": {},
   "outputs": [
    {
     "data": {
      "text/plain": [
       "dtype('float64')"
      ]
     },
     "execution_count": 15,
     "metadata": {},
     "output_type": "execute_result"
    }
   ],
   "source": [
    "z.dtype"
   ]
  },
  {
   "cell_type": "markdown",
   "id": "7c77a2ad",
   "metadata": {},
   "source": [
    "Next is from youtube video from ML roadmap.sh (BroCode YT 1hr numpy)"
   ]
  },
  {
   "cell_type": "code",
   "execution_count": 16,
   "id": "8bf19de0",
   "metadata": {},
   "outputs": [],
   "source": [
    "new_arr = np.array([[1,2,3],\n",
    "                    [4,5,6],\n",
    "                    [7,8,9],\n",
    "                    [10,11,2]])"
   ]
  },
  {
   "cell_type": "code",
   "execution_count": 17,
   "metadata": {},
   "outputs": [
    {
     "data": {
      "text/plain": [
       "array([[5, 6],\n",
       "       [8, 9]])"
      ]
     },
     "execution_count": 17,
     "metadata": {},
     "output_type": "execute_result"
    }
   ],
   "source": [
    "# new_arr[start:stop:step , start:stop:step]\n",
    "\n",
    "new_arr[1:3,1:]"
   ]
  },
  {
   "cell_type": "code",
   "execution_count": 18,
   "metadata": {},
   "outputs": [
    {
     "name": "stdout",
     "output_type": "stream",
     "text": [
      "[2 3 4]\n",
      "[-1  0  1]\n",
      "[3 6 9]\n",
      "[0.25 0.5  0.75]\n",
      "[ 1  8 27]\n"
     ]
    }
   ],
   "source": [
    "# Scalar Arithematic\n",
    "\n",
    "new_arr = np.array([1,2,3])\n",
    "\n",
    "print(new_arr + 1)\n",
    "print(new_arr - 2)\n",
    "print(new_arr * 3)\n",
    "print(new_arr / 4)\n",
    "print(new_arr ** 3)"
   ]
  },
  {
   "cell_type": "code",
   "execution_count": 19,
   "id": "8bd91f29",
   "metadata": {},
   "outputs": [
    {
     "name": "stdout",
     "output_type": "stream",
     "text": [
      "[1 4 9]\n",
      "[1 2 3]\n"
     ]
    }
   ],
   "source": [
    "# Vetorized Math Functions\n",
    "\n",
    "print(np.square(new_arr))\n",
    "print(np.ceil(new_arr))"
   ]
  },
  {
   "cell_type": "code",
   "execution_count": 20,
   "id": "72de71cb",
   "metadata": {},
   "outputs": [
    {
     "name": "stdout",
     "output_type": "stream",
     "text": [
      "[5 7 9]\n",
      "[-3 -3 -3]\n",
      "[ 4 10 18]\n",
      "[0.25 0.4  0.5 ]\n",
      "[  1  32 729]\n"
     ]
    }
   ],
   "source": [
    "# Element Wise Arithematic\n",
    "\n",
    "arr_1 = np.array([1, 2, 3])\n",
    "arr_2 = np.array([4, 5, 6])\n",
    "\n",
    "print(arr_1 + arr_2)\n",
    "print(arr_1 - arr_2)\n",
    "print(arr_1 * arr_2)\n",
    "print(arr_1 / arr_2)\n",
    "print(arr_1**arr_2)"
   ]
  },
  {
   "cell_type": "code",
   "execution_count": 21,
   "id": "08bce656",
   "metadata": {},
   "outputs": [
    {
     "name": "stdout",
     "output_type": "stream",
     "text": [
      "[False False  True False False]\n",
      "[ True  True  True  True False]\n",
      "[ 91  55 100  85   0]\n"
     ]
    }
   ],
   "source": [
    "# Boolean Operator Arithematic\n",
    "\n",
    "scores = np.array([91, 55, 100, 85, 38])\n",
    "print(scores == 100)\n",
    "print(scores >= 40)\n",
    "scores[scores < 40] = 0\n",
    "print(scores)"
   ]
  },
  {
   "cell_type": "code",
   "execution_count": 22,
   "id": "d13b2b86",
   "metadata": {},
   "outputs": [
    {
     "name": "stdout",
     "output_type": "stream",
     "text": [
      "(1, 3)\n",
      "(3, 1)\n",
      "[[1 2 3]\n",
      " [2 4 6]\n",
      " [3 6 9]]\n"
     ]
    }
   ],
   "source": [
    "# Broadcasting\n",
    "\n",
    "arr_1 = np.array([[1,2,3]])\n",
    "arr_2 = np.array([[1],[2],[3]])\n",
    "\n",
    "print(arr_1.shape)\n",
    "print(arr_2.shape)\n",
    "\n",
    "print(arr_1 * arr_2)"
   ]
  },
  {
   "cell_type": "code",
   "execution_count": 23,
   "id": "2ede01cc",
   "metadata": {},
   "outputs": [
    {
     "name": "stdout",
     "output_type": "stream",
     "text": [
      "43\n",
      "5.375\n",
      "3.1598061649411346\n",
      "9.984375\n",
      "1\n",
      "10\n",
      "0\n",
      "7\n",
      "[ 7 10 12 14]\n"
     ]
    }
   ],
   "source": [
    "# Aggregate functions summarize data and typically return a single value\n",
    "\n",
    "new_arr = np.array([[1,2,3,4],\n",
    "                    [6,8,9,10]])\n",
    "\n",
    "print(np.sum(new_arr))\n",
    "print(np.mean(new_arr))\n",
    "print(np.std(new_arr))  # for standard deviation\n",
    "print(np.var(new_arr))  # for variance\n",
    "print(np.min(new_arr))\n",
    "print(np.max(new_arr))\n",
    "print(np.argmin(new_arr))  # min value\n",
    "print(np.argmax(new_arr))  # max value\n",
    "print(np.sum(new_arr, axis=0)) # axis=0 is for column and axis=1 is for row column"
   ]
  },
  {
   "cell_type": "code",
   "execution_count": 24,
   "id": "b12cd468",
   "metadata": {},
   "outputs": [
    {
     "name": "stdout",
     "output_type": "stream",
     "text": [
      "[12 17] [21 34 57 45 32 54] [89 73] [34 32 12 54] [21 57 89 45 73 17]\n",
      "[[21. 34. 57. 89. 45.]\n",
      " [73. 32. nan 54. nan]]\n"
     ]
    }
   ],
   "source": [
    "# Filtering = Refers to the process of selecting elements\n",
    "# from an array that match a given condition\n",
    "\n",
    "\n",
    "ages = np.array([[21, 34, 57, 89, 45],\n",
    "                 [73, 32, 12, 54, 17]])\n",
    "\n",
    "teenagers = ages[ages < 18]\n",
    "adults = ages[(ages >= 18) & (ages < 65)]\n",
    "seniors = ages[ages >= 65]\n",
    "evens = ages[ages % 2 == 0]\n",
    "odds = ages[ages % 2 == 1]\n",
    "print(teenagers, adults, seniors, evens, odds)\n",
    "\n",
    "print(np.where(ages > 18, ages, np.nan)) # if you want to preserve the order of the array"
   ]
  },
  {
   "cell_type": "code",
   "execution_count": 25,
   "id": "ed1ced73",
   "metadata": {},
   "outputs": [
    {
     "name": "stdout",
     "output_type": "stream",
     "text": [
      "[['apple' 'banana' 'apple']\n",
      " ['apple' 'mango' 'banana']]\n"
     ]
    }
   ],
   "source": [
    "# Random numbers generator\n",
    "\n",
    "rng = np.random.default_rng()\n",
    "\n",
    "# print(rng.integers(low=1, high=101, size=(2,3))) # out a 2D array of random numbers\n",
    "\n",
    "# new_arr = np.array([1,2,3,4,5])\n",
    "# rng.shuffle(new_arr)\n",
    "# print(new_arr)\n",
    "\n",
    "fruits = np.array(['apple', 'banana', 'orange', 'mango'])\n",
    "fruit = rng.choice(fruits, size=(2,3) )\n",
    "print(fruit)"
   ]
  },
  {
   "cell_type": "code",
   "execution_count": null,
   "id": "7245ef09",
   "metadata": {},
   "outputs": [],
   "source": []
  },
  {
   "cell_type": "code",
   "execution_count": 26,
   "id": "252a2e56",
   "metadata": {},
   "outputs": [
    {
     "name": "stdout",
     "output_type": "stream",
     "text": [
      "[[[[[1 2 3 4]]]]]\n",
      "number of dimensions : 5\n"
     ]
    }
   ],
   "source": [
    "arr = np.array([1, 2, 3, 4], ndmin=5)\n",
    "\n",
    "print(arr)\n",
    "print(\"number of dimensions :\", arr.ndim)"
   ]
  },
  {
   "cell_type": "code",
   "execution_count": 27,
   "id": "0b0353d0",
   "metadata": {},
   "outputs": [
    {
     "name": "stdout",
     "output_type": "stream",
     "text": [
      "None\n",
      "[1 2 3 4 5]\n"
     ]
    }
   ],
   "source": [
    "arr = np.array([1, 2, 3, 4, 5])\n",
    "\n",
    "x = arr.copy()\n",
    "y = arr.view()\n",
    "\n",
    "print(x.base)\n",
    "print(y.base)"
   ]
  },
  {
   "cell_type": "code",
   "execution_count": 28,
   "id": "5a755896",
   "metadata": {},
   "outputs": [
    {
     "name": "stdout",
     "output_type": "stream",
     "text": [
      "[[[ 1  2]\n",
      "  [ 3  4]\n",
      "  [ 5  6]]\n",
      "\n",
      " [[ 7  8]\n",
      "  [ 9 10]\n",
      "  [11 12]]]\n"
     ]
    }
   ],
   "source": [
    "arr = np.array([1, 2, 3, 4, 5, 6, 7, 8, 9, 10, 11, 12])\n",
    "\n",
    "# newarr = arr.reshape(4, 3)\n",
    "newarr = arr.reshape(2,3,2)\n",
    "\n",
    "print(newarr)"
   ]
  },
  {
   "cell_type": "code",
   "execution_count": 29,
   "id": "19dc8d46",
   "metadata": {},
   "outputs": [
    {
     "name": "stdout",
     "output_type": "stream",
     "text": [
      "[1 2 3 4 5 6 7 8]\n"
     ]
    }
   ],
   "source": [
    "arr = np.array([1, 2, 3, 4, 5, 6, 7, 8])\n",
    "\n",
    "print(arr.reshape(2, 4).base)"
   ]
  },
  {
   "cell_type": "code",
   "execution_count": 30,
   "id": "bc573f79",
   "metadata": {},
   "outputs": [
    {
     "name": "stdout",
     "output_type": "stream",
     "text": [
      "[1 2 3 4 5 6]\n"
     ]
    }
   ],
   "source": [
    "arr = np.array([[1, 2, 3], [4, 5, 6]])\n",
    "\n",
    "newarr = arr.reshape(-1)\n",
    "\n",
    "print(newarr)"
   ]
  },
  {
   "cell_type": "code",
   "execution_count": 31,
   "id": "eddb9ea9",
   "metadata": {},
   "outputs": [
    {
     "name": "stdout",
     "output_type": "stream",
     "text": [
      "1\n",
      "2\n",
      "3\n",
      "4\n",
      "5\n",
      "6\n",
      "7\n",
      "8\n"
     ]
    }
   ],
   "source": [
    "arr = np.array([[[1, 2], [3, 4]], [[5, 6], [7, 8]]])\n",
    "\n",
    "for x in np.nditer(arr):\n",
    "    print(x)"
   ]
  },
  {
   "cell_type": "code",
   "execution_count": 32,
   "id": "b0a97eaa",
   "metadata": {},
   "outputs": [
    {
     "name": "stdout",
     "output_type": "stream",
     "text": [
      "[array([1, 2]), array([3, 4]), array([5, 6])]\n"
     ]
    }
   ],
   "source": [
    "arr = np.array([1, 2, 3, 4, 5, 6])\n",
    "\n",
    "newarr = np.array_split(arr, 3)\n",
    "\n",
    "print(newarr)"
   ]
  }
 ],
 "metadata": {
  "kernelspec": {
   "display_name": "my_env_ai",
   "language": "python",
   "name": "python3"
  },
  "language_info": {
   "codemirror_mode": {
    "name": "ipython",
    "version": 3
   },
   "file_extension": ".py",
   "mimetype": "text/x-python",
   "name": "python",
   "nbconvert_exporter": "python",
   "pygments_lexer": "ipython3",
   "version": "3.13.7"
  }
 },
 "nbformat": 4,
 "nbformat_minor": 5
}
