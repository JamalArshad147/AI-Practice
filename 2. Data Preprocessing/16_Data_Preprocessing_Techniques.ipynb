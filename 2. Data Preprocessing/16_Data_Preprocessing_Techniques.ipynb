{
  "cells": [
    {
      "cell_type": "code",
      "execution_count": null,
      "metadata": {
        "colab": {
          "base_uri": "https://localhost:8080/",
          "height": 363
        },
        "id": "N4eLjDWU39BY",
        "outputId": "3869b48c-642d-44b1-f5dd-12116d36dc1f"
      },
      "outputs": [],
      "source": [
        "import pandas as pd\n",
        "import numpy as np\n",
        "import warnings\n",
        "\n",
        "warnings.filterwarnings(\"ignore\")\n",
        "\n",
        "np.random.seed(42)\n",
        "\n",
        "\n",
        "def createdata():\n",
        "    data = {\n",
        "        \"Age\": np.random.randint(18, 70, size=20),\n",
        "        \"Salary\": np.random.randint(30000, 120000, size=20),\n",
        "        \"Purchased\": np.random.choice([0, 1], size=20),\n",
        "        \"Gender\": np.random.choice([\"Male\", \"Female\"], size=20),\n",
        "        \"City\": np.random.choice([\"New York\", \"San Francisco\", \"Los Angeles\"], size=20),\n",
        "    }\n",
        "\n",
        "    df = pd.DataFrame(data)\n",
        "    return df\n",
        "\n",
        "\n",
        "df = createdata()\n",
        "df.head(10)"
      ]
    },
    {
      "cell_type": "code",
      "execution_count": null,
      "metadata": {
        "colab": {
          "base_uri": "https://localhost:8080/"
        },
        "id": "wbHvmL69bx7e",
        "outputId": "06e92042-3564-4bca-e586-0b59eb0d6caa"
      },
      "outputs": [],
      "source": [
        "df.shape"
      ]
    },
    {
      "cell_type": "markdown",
      "metadata": {
        "id": "i1OLypJwz2Ui"
      },
      "source": [
        "# When you have missing value in data\n"
      ]
    },
    {
      "cell_type": "code",
      "execution_count": null,
      "metadata": {
        "colab": {
          "base_uri": "https://localhost:8080/",
          "height": 363
        },
        "id": "KAwtRBI04RDV",
        "outputId": "6dd18c6c-bbf4-460a-b5a4-1e4190dff2a7"
      },
      "outputs": [],
      "source": [
        "# Introduce some missing values for demonstration\n",
        "df.loc[5, \"Age\"] = np.nan\n",
        "df.loc[10, \"Salary\"] = np.nan\n",
        "df.head(10)"
      ]
    },
    {
      "cell_type": "code",
      "execution_count": null,
      "metadata": {
        "colab": {
          "base_uri": "https://localhost:8080/",
          "height": 363
        },
        "id": "3P2RL-e-4RMz",
        "outputId": "61882094-3077-4de5-a1e8-adfd3802caf9"
      },
      "outputs": [],
      "source": [
        "# Simple Imputation (mean, median, mode) -\n",
        "# Pros: Fast and straightforward.\n",
        "# Cons: May introduce bias if missing data isn’t random. --Unfold data science mising data treatment\n",
        "df[\"Age\"].fillna(df[\"Age\"].mean(), inplace=True)\n",
        "df[\"Salary\"].fillna(df[\"Salary\"].median(), inplace=True)\n",
        "df.head(10)"
      ]
    },
    {
      "cell_type": "code",
      "execution_count": null,
      "metadata": {
        "colab": {
          "base_uri": "https://localhost:8080/",
          "height": 363
        },
        "id": "auG-rNzg4RQy",
        "outputId": "4a9e93bf-d039-4ea5-df0b-a62899d702fc"
      },
      "outputs": [],
      "source": [
        "# Listwise deletion\n",
        "# pros : Simple .\n",
        "# Cons - loosing data\n",
        "df_dropped = df.dropna()\n",
        "df_dropped.head(10)"
      ]
    },
    {
      "cell_type": "code",
      "execution_count": null,
      "metadata": {
        "colab": {
          "base_uri": "https://localhost:8080/"
        },
        "id": "f7Mc0JgSbsGv",
        "outputId": "5c420ccf-6ca5-4c2b-a534-97f21d754a7a"
      },
      "outputs": [],
      "source": [
        "df_dropped.shape"
      ]
    },
    {
      "cell_type": "code",
      "execution_count": null,
      "metadata": {
        "id": "ltaB0OoR4RUL"
      },
      "outputs": [],
      "source": [
        "# Predictive Imputation - seach for MICE imputation as well -\n",
        "# Pros: More accurate for complex patterns.\n",
        "# Cons: Computationally intensive, may add noise with high variance.\n",
        "from sklearn.impute import KNNImputer\n",
        "\n",
        "knn_imputer = KNNImputer(n_neighbors=3)\n",
        "df[[\"Age\", \"Salary\"]] = knn_imputer.fit_transform(df[[\"Age\", \"Salary\"]])"
      ]
    },
    {
      "cell_type": "code",
      "execution_count": null,
      "metadata": {
        "colab": {
          "base_uri": "https://localhost:8080/",
          "height": 363
        },
        "id": "g3AvRKJycDZ3",
        "outputId": "169c155a-8fb0-4246-c6df-7491e1875fe5"
      },
      "outputs": [],
      "source": [
        "df.head(10)"
      ]
    },
    {
      "cell_type": "code",
      "execution_count": null,
      "metadata": {
        "colab": {
          "base_uri": "https://localhost:8080/",
          "height": 363
        },
        "id": "X126htDJ4RZm",
        "outputId": "38ef040b-ae5f-4081-883c-1dcfd731e249"
      },
      "outputs": [],
      "source": [
        "# Add indicator for missingness\n",
        "# Pros: Allows the model to learn patterns of missingness.\n",
        "# Cons: Can increase dimensionality and complexity.\n",
        "df[\"Age_missing\"] = df[\"Age\"].isnull().astype(int)\n",
        "df.head(10)"
      ]
    },
    {
      "cell_type": "markdown",
      "metadata": {
        "id": "UFUqNRH45jFA"
      },
      "source": [
        "# When you have Categorical Variables in data\n"
      ]
    },
    {
      "cell_type": "code",
      "execution_count": null,
      "metadata": {
        "colab": {
          "base_uri": "https://localhost:8080/",
          "height": 206
        },
        "id": "xCIGPwe34RcL",
        "outputId": "5cc10698-d321-4fb4-d20b-51194908d5a2"
      },
      "outputs": [],
      "source": [
        "# Label Encoding\n",
        "# Pros: Simple and space-efficient.\n",
        "# Cons: Implies ordinal relationship, which may mislead models.\n",
        "from sklearn.preprocessing import LabelEncoder\n",
        "\n",
        "label_encoder = LabelEncoder()\n",
        "df[\"Gender\"] = label_encoder.fit_transform(df[\"Gender\"])\n",
        "df.head()"
      ]
    },
    {
      "cell_type": "code",
      "execution_count": null,
      "metadata": {
        "colab": {
          "base_uri": "https://localhost:8080/",
          "height": 206
        },
        "id": "2vCNFwQ24Ren",
        "outputId": "691a97b2-4f5f-4d91-fc07-1cecdff84f37"
      },
      "outputs": [],
      "source": [
        "# One-Hot Encoding\n",
        "# Pros: Great for non-ordinal categories; maintains all category information.\n",
        "# Cons: Increases dimensionality, particularly with many unique values.#\n",
        "df = pd.get_dummies(df, columns=[\"City\"], drop_first=True)\n",
        "df.head()"
      ]
    },
    {
      "cell_type": "code",
      "execution_count": null,
      "metadata": {
        "id": "GcKohAtz9iBJ"
      },
      "outputs": [],
      "source": [
        "df = createdata()"
      ]
    },
    {
      "cell_type": "code",
      "execution_count": null,
      "metadata": {
        "colab": {
          "base_uri": "https://localhost:8080/",
          "height": 206
        },
        "id": "nxLEMnWE4Rhh",
        "outputId": "9fb579ed-19c1-4d6b-d7a4-7fb83e671a0d"
      },
      "outputs": [],
      "source": [
        "# Ordinal Encoding\n",
        "# Pros: Effective for ordinal data; captures order.\n",
        "# Cons: Not suitable for non-ordinal data, as it implies ranking.\n",
        "df[\"City\"] = df[\"City\"].map({\"New York\": 1, \"San Francisco\": 2, \"Los Angeles\": 3})\n",
        "df.head()"
      ]
    },
    {
      "cell_type": "code",
      "execution_count": null,
      "metadata": {
        "colab": {
          "base_uri": "https://localhost:8080/",
          "height": 206
        },
        "id": "0T9zezm37XWe",
        "outputId": "0754a5ce-da86-4858-81a9-87955949aa83"
      },
      "outputs": [],
      "source": [
        "# Target Encoding\n",
        "# Pros: Useful for high-cardinality features.\n",
        "# Cons: Can cause data leakage if target encoding is not done properly.\n",
        "mean_target = df.groupby(\"City\")[\"Purchased\"].mean()\n",
        "df[\"City_encoded\"] = df[\"City\"].map(mean_target)\n",
        "df.head()"
      ]
    },
    {
      "cell_type": "markdown",
      "metadata": {
        "id": "q7-VG2qw123T"
      },
      "source": [
        "# When you need to scale features\n"
      ]
    },
    {
      "cell_type": "code",
      "execution_count": null,
      "metadata": {
        "colab": {
          "base_uri": "https://localhost:8080/",
          "height": 206
        },
        "id": "vepp0vS215EY",
        "outputId": "3c3c6850-53d8-403c-c1da-b3f0fc2b6b8d"
      },
      "outputs": [],
      "source": [
        "from sklearn.preprocessing import StandardScaler, MinMaxScaler, RobustScaler\n",
        "\n",
        "# Standardization (mean=0, variance=1)\n",
        "# Pros: Works well for normally distributed data; suitable for many models.\n",
        "# Cons: Sensitive to outliers.\n",
        "scaler = StandardScaler()\n",
        "df[[\"Age\", \"Salary\"]] = scaler.fit_transform(df[[\"Age\", \"Salary\"]])\n",
        "df.head()"
      ]
    },
    {
      "cell_type": "code",
      "execution_count": null,
      "metadata": {
        "colab": {
          "base_uri": "https://localhost:8080/",
          "height": 206
        },
        "id": "IPDD2JZn9mZb",
        "outputId": "6a022445-07d2-4c1a-ff50-d6fcc0a4fca0"
      },
      "outputs": [],
      "source": [
        "df = createdata()\n",
        "df.head(5)"
      ]
    },
    {
      "cell_type": "code",
      "execution_count": null,
      "metadata": {
        "colab": {
          "base_uri": "https://localhost:8080/",
          "height": 206
        },
        "id": "6AMfUBJS9o9Q",
        "outputId": "7c00b3c7-81cf-49df-9e98-2cf6e6f93a42"
      },
      "outputs": [],
      "source": [
        "# Normalization (range 0-1)\n",
        "# Pros: Keeps all data between 0 and 1; ideal for distance-based models.\n",
        "# Cons: Can distort data distribution, especially with extreme outliers.\n",
        "normalizer = MinMaxScaler()\n",
        "df[[\"Age\", \"Salary\"]] = normalizer.fit_transform(df[[\"Age\", \"Salary\"]])\n",
        "df.head()"
      ]
    },
    {
      "cell_type": "code",
      "execution_count": null,
      "metadata": {
        "colab": {
          "base_uri": "https://localhost:8080/",
          "height": 206
        },
        "id": "oC2agyw-98aO",
        "outputId": "423ec7c8-6ce2-441e-8e03-aa69ff4c9c1c"
      },
      "outputs": [],
      "source": [
        "df = createdata()\n",
        "df.head(5)"
      ]
    },
    {
      "cell_type": "code",
      "execution_count": null,
      "metadata": {
        "colab": {
          "base_uri": "https://localhost:8080/",
          "height": 206
        },
        "id": "iBb7Tzl_2YfT",
        "outputId": "f8640f4b-2531-4770-8f1e-74c64075316a"
      },
      "outputs": [],
      "source": [
        "# Robust Scaling (uses median and IQR, robust to outliers)\n",
        "# Pros: More robust to outliers by using median and IQR.\n",
        "# Cons: Doesn’t work as well for normal distributions.\n",
        "robust_scaler = RobustScaler()\n",
        "df[[\"Age\", \"Salary\"]] = robust_scaler.fit_transform(df[[\"Age\", \"Salary\"]])\n",
        "df.head(5)"
      ]
    },
    {
      "cell_type": "code",
      "execution_count": null,
      "metadata": {
        "id": "LTROuULN9_Dn"
      },
      "outputs": [],
      "source": []
    },
    {
      "cell_type": "markdown",
      "metadata": {
        "id": "V0s2XgS6-RwT"
      },
      "source": [
        "# When you have outliers in data\n"
      ]
    },
    {
      "cell_type": "code",
      "execution_count": null,
      "metadata": {
        "colab": {
          "base_uri": "https://localhost:8080/",
          "height": 206
        },
        "id": "QTpPU21A-kTG",
        "outputId": "7566ce17-97a2-47a7-9fcd-c974652a198a"
      },
      "outputs": [],
      "source": [
        "df = createdata()\n",
        "df.head(5)"
      ]
    },
    {
      "cell_type": "code",
      "execution_count": null,
      "metadata": {
        "id": "6gDyamtQ-UDf"
      },
      "outputs": [],
      "source": [
        "# Outlier Detection and Treatment using IQR\n",
        "# Pros: Simple and effective for mild outliers.\n",
        "# Cons: May overly reduce variation if there are many extreme outliers.\n",
        "Q1 = df[\"Salary\"].quantile(0.25)\n",
        "Q3 = df[\"Salary\"].quantile(0.75)\n",
        "IQR = Q3 - Q1\n",
        "lower_bound = Q1 - 1.5 * IQR\n",
        "upper_bound = Q3 + 1.5 * IQR\n",
        "df[\"Salary\"] = np.where(\n",
        "    df[\"Salary\"] > upper_bound,\n",
        "    upper_bound,\n",
        "    np.where(df[\"Salary\"] < lower_bound, lower_bound, df[\"Salary\"]),\n",
        ")"
      ]
    },
    {
      "cell_type": "code",
      "execution_count": null,
      "metadata": {
        "colab": {
          "base_uri": "https://localhost:8080/",
          "height": 206
        },
        "id": "sTBEIJ7z-zSg",
        "outputId": "a4866db3-9623-4a42-cbdb-3411aa5789c8"
      },
      "outputs": [],
      "source": [
        "df = createdata()\n",
        "df.head(5)"
      ]
    },
    {
      "cell_type": "code",
      "execution_count": null,
      "metadata": {
        "id": "R-6xPAeK-qWW"
      },
      "outputs": [],
      "source": [
        "# Z-score method\n",
        "# Pros: Good for normally distributed data.\n",
        "# Cons: Not suitable for non-normal data; may miss outliers in skewed distributions.\n",
        "from scipy import stats\n",
        "\n",
        "df[\"Salary_zscore\"] = stats.zscore(df[\"Salary\"])\n",
        "df[\"Salary\"] = np.where(\n",
        "    df[\"Salary_zscore\"].abs() > 3, np.nan, df[\"Salary\"]\n",
        ")  # Replace outliers with NaN"
      ]
    },
    {
      "cell_type": "code",
      "execution_count": null,
      "metadata": {
        "colab": {
          "base_uri": "https://localhost:8080/",
          "height": 206
        },
        "id": "7iDJaP_e--S6",
        "outputId": "ae898033-378b-42e3-ddaf-4ddf46db087b"
      },
      "outputs": [],
      "source": [
        "df = createdata()\n",
        "df.head(5)"
      ]
    },
    {
      "cell_type": "code",
      "execution_count": null,
      "metadata": {
        "colab": {
          "base_uri": "https://localhost:8080/",
          "height": 206
        },
        "id": "BGlAQGPu-4uk",
        "outputId": "746de581-eff0-4d93-c7c0-4461463e4a63"
      },
      "outputs": [],
      "source": [
        "# Median replacement for outliers\n",
        "# Pros: Keeps distribution shape intact, useful when capping isn’t feasible.\n",
        "# Cons: May distort data if outliers represent real phenomena.\n",
        "df[\"Salary_zscore\"] = stats.zscore(df[\"Salary\"])\n",
        "median_salary = df[\"Salary\"].median()\n",
        "df[\"Salary\"] = np.where(df[\"Salary_zscore\"].abs() > 3, median_salary, df[\"Salary\"])\n",
        "df.head(5)"
      ]
    },
    {
      "cell_type": "markdown",
      "metadata": {
        "id": "zBzPf1Mk_oMv"
      },
      "source": [
        "# Feature Engineering\n"
      ]
    },
    {
      "cell_type": "code",
      "execution_count": null,
      "metadata": {
        "colab": {
          "base_uri": "https://localhost:8080/",
          "height": 206
        },
        "id": "EPZFUM-w_qjm",
        "outputId": "5bc856bb-eee0-4311-dfb7-bb487e3552f1"
      },
      "outputs": [],
      "source": [
        "df = createdata()\n",
        "df.head(5)"
      ]
    },
    {
      "cell_type": "code",
      "execution_count": null,
      "metadata": {
        "colab": {
          "base_uri": "https://localhost:8080/",
          "height": 363
        },
        "id": "0VFF8m06_2Dg",
        "outputId": "ffa39ff6-c84b-47f0-84a8-7946e90ec434"
      },
      "outputs": [],
      "source": [
        "# Creating a new feature based on Salary\n",
        "# Pros: Simplified continuous features; useful in non-linear models.\n",
        "# Cons: Can lose data granularity, potentially reducing model accuracy.\n",
        "df[\"Income_Level\"] = pd.cut(\n",
        "    df[\"Salary\"], bins=[0, 50000, 100000, 150000], labels=[\"Low\", \"Medium\", \"High\"]\n",
        ")\n",
        "df.head(10)"
      ]
    },
    {
      "cell_type": "code",
      "execution_count": null,
      "metadata": {
        "colab": {
          "base_uri": "https://localhost:8080/",
          "height": 206
        },
        "id": "DyyAQHsU_5-g",
        "outputId": "53388c7e-6a65-4d07-8f9a-500229dbc52d"
      },
      "outputs": [],
      "source": [
        "# Polynomial Features\n",
        "# Pros: Captures complex relationships between variables.\n",
        "# Cons: Increases dimensionality, risking overfitting.\n",
        "from sklearn.preprocessing import PolynomialFeatures\n",
        "\n",
        "poly = PolynomialFeatures(degree=2, include_bias=False)\n",
        "poly_features = poly.fit_transform(df[[\"Age\", \"Salary\"]])\n",
        "df_poly = pd.DataFrame(\n",
        "    poly_features, columns=poly.get_feature_names_out([\"Age\", \"Salary\"])\n",
        ")\n",
        "df = pd.concat([df, df_poly], axis=1)\n",
        "df.head()"
      ]
    },
    {
      "cell_type": "code",
      "execution_count": null,
      "metadata": {
        "id": "hlK8tIH1ABbE"
      },
      "outputs": [],
      "source": []
    }
  ],
  "metadata": {
    "colab": {
      "provenance": []
    },
    "kernelspec": {
      "display_name": "Python 3",
      "name": "python3"
    },
    "language_info": {
      "name": "python",
      "version": "3.13.7"
    }
  },
  "nbformat": 4,
  "nbformat_minor": 0
}
