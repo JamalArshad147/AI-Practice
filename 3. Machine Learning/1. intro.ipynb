{
 "cells": [
  {
   "cell_type": "markdown",
   "id": "249ea828",
   "metadata": {},
   "source": [
    "**Intelligence:** \n",
    "- Ability to learn from experience\n",
    "- Ability to acquire and apply knowledge\n",
    "\n",
    "\n",
    "\n"
   ]
  },
  {
   "cell_type": "markdown",
   "id": "51f76ec3",
   "metadata": {},
   "source": [
    "https://www.ibm.com/think/topics/machine-learning"
   ]
  },
  {
   "cell_type": "markdown",
   "id": "678ef7c2",
   "metadata": {},
   "source": [
    "https://www.datacamp.com/blog/supervised-machine-learning \n"
   ]
  },
  {
   "cell_type": "markdown",
   "id": "87343496",
   "metadata": {},
   "source": []
  }
 ],
 "metadata": {
  "kernelspec": {
   "display_name": "Python 3",
   "language": "python",
   "name": "python3"
  },
  "language_info": {
   "name": "python",
   "version": "3.13.7"
  }
 },
 "nbformat": 4,
 "nbformat_minor": 5
}
